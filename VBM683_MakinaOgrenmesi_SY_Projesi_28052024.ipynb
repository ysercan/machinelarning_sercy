{
  "nbformat": 4,
  "nbformat_minor": 0,
  "metadata": {
    "colab": {
      "provenance": []
    },
    "kernelspec": {
      "name": "python3",
      "display_name": "Python 3"
    },
    "language_info": {
      "name": "python"
    }
  },
  "cells": [
    {
      "cell_type": "markdown",
      "source": [
        "VBM683 Makine Öğrenmesi Term Paper - N21239069 - Sercan YILDIRIM\n"
      ],
      "metadata": {
        "id": "a1yeBteN9N8l"
      }
    },
    {
      "cell_type": "markdown",
      "source": [
        "# Libraries\n"
      ],
      "metadata": {
        "id": "anXK9NUcmJBr"
      }
    },
    {
      "cell_type": "code",
      "execution_count": null,
      "metadata": {
        "id": "SOCet6zhnDH9"
      },
      "outputs": [],
      "source": [
        "import pandas as pd\n",
        "import numpy as np\n",
        "import seaborn as sns\n",
        "import matplotlib.pyplot as plt\n",
        "from sklearn.model_selection import cross_val_score,KFold,GridSearchCV,train_test_split\n",
        "from sklearn.preprocessing import StandardScaler,MinMaxScaler,OneHotEncoder,OrdinalEncoder\n",
        "from sklearn.impute import SimpleImputer\n",
        "from sklearn.tree import DecisionTreeRegressor\n",
        "from sklearn.ensemble import AdaBoostRegressor,BaggingRegressor,ExtraTreesRegressor\n",
        "from sklearn.ensemble import GradientBoostingRegressor,RandomForestRegressor\n",
        "from sklearn.svm import SVR\n",
        "from sklearn.neighbors import KNeighborsRegressor\n",
        "from sklearn.compose import ColumnTransformer\n",
        "from sklearn.pipeline import Pipeline\n",
        "from sklearn.linear_model import LinearRegression,Lasso,Ridge,ElasticNet\n",
        "from sklearn.feature_selection import SelectKBest\n",
        "import warnings\n",
        "warnings.filterwarnings(\"ignore\")"
      ]
    },
    {
      "cell_type": "code",
      "source": [
        "df = pd.read_csv(r'https://raw.githubusercontent.com/senanurbalcioglu/ev_fiyat_tahmini/main/dataset.csv')\n",
        "df.head()"
      ],
      "metadata": {
        "colab": {
          "base_uri": "https://localhost:8080/",
          "height": 449
        },
        "id": "yBEvhu8GnfoZ",
        "outputId": "8de661aa-56f0-47ae-c14f-544f190c9b2e"
      },
      "execution_count": null,
      "outputs": [
        {
          "output_type": "execute_result",
          "data": {
            "text/plain": [
              "         Fiyat                                     Adres Oda Sayısı  \\\n",
              "0  2,250,000TL       Adana - Aladağ - Ceritler Mahallesi        3+1   \n",
              "1  2,500,000TL       Adana - Aladağ - Ceritler Mahallesi        4+2   \n",
              "2    900,000TL       Adana - Aladağ - Ceritler Mahallesi      1 Oda   \n",
              "3  1,240,000TL    Adana - Ceyhan - Namık Kemal Mahallesi        2+1   \n",
              "4  4,800,000TL  Adana - Ceyhan - Şahin Özbilen Mahallesi        2+1   \n",
              "\n",
              "   Bulunduğu Kat Isıtma Tipi Krediye Uygunluk    Yapı Durumu    Tapu Durumu  \\\n",
              "0  Belirtilmemiş  Isıtma Yok    Krediye Uygun  Belirtilmemiş  Belirtilmemiş   \n",
              "1  Belirtilmemiş      Sobalı       Bilinmiyor  Belirtilmemiş  Belirtilmemiş   \n",
              "2  Belirtilmemiş      Sobalı       Bilinmiyor  Belirtilmemiş  Belirtilmemiş   \n",
              "3          5.Kat  Isıtma Yok    Krediye Uygun      İkinci El  Kat Mülkiyeti   \n",
              "4   Yüksek Giriş     Klimalı    Krediye Uygun  Belirtilmemiş  Belirtilmemiş   \n",
              "\n",
              "     Eşya Durumu Site İçerisinde   Türü         Tipi Brüt Metrekare  \\\n",
              "0            Boş           Hayır  Konut  Müstakil Ev         135 M2   \n",
              "1  Belirtilmemiş           Hayır  Konut  Müstakil Ev         300 M2   \n",
              "2  Belirtilmemiş           Hayır  Konut  Müstakil Ev         725 M2   \n",
              "3            Boş           Hayır  Konut        Daire          87 M2   \n",
              "4  Belirtilmemiş           Hayır  Konut        Daire         120 M2   \n",
              "\n",
              "  Binanın Yaşı  Binanın Kat Sayısı  Kullanım Durumu Yatırıma Uygunluk  \\\n",
              "0     0 (Yeni)                   2              Boş     Belirtilmemiş   \n",
              "1        16-20                   2              Boş     Belirtilmemiş   \n",
              "2  21 Ve Üzeri                   1              Boş     Belirtilmemiş   \n",
              "3  21 Ve Üzeri                   5  Kiracı Oturuyor        Bilinmiyor   \n",
              "4       15-Nov                   1  Kiracı Oturuyor     Belirtilmemiş   \n",
              "\n",
              "   Banyo Sayısı  Balkon Sayısı      WC Sayısı  \n",
              "0             2              1  Belirtilmemiş  \n",
              "1             2  Belirtilmemiş  Belirtilmemiş  \n",
              "2             1  Belirtilmemiş  Belirtilmemiş  \n",
              "3             1  Belirtilmemiş  Belirtilmemiş  \n",
              "4             1  Belirtilmemiş  Belirtilmemiş  "
            ],
            "text/html": [
              "\n",
              "  <div id=\"df-b577e9a0-4f71-4505-a92b-9261e699d58e\" class=\"colab-df-container\">\n",
              "    <div>\n",
              "<style scoped>\n",
              "    .dataframe tbody tr th:only-of-type {\n",
              "        vertical-align: middle;\n",
              "    }\n",
              "\n",
              "    .dataframe tbody tr th {\n",
              "        vertical-align: top;\n",
              "    }\n",
              "\n",
              "    .dataframe thead th {\n",
              "        text-align: right;\n",
              "    }\n",
              "</style>\n",
              "<table border=\"1\" class=\"dataframe\">\n",
              "  <thead>\n",
              "    <tr style=\"text-align: right;\">\n",
              "      <th></th>\n",
              "      <th>Fiyat</th>\n",
              "      <th>Adres</th>\n",
              "      <th>Oda Sayısı</th>\n",
              "      <th>Bulunduğu Kat</th>\n",
              "      <th>Isıtma Tipi</th>\n",
              "      <th>Krediye Uygunluk</th>\n",
              "      <th>Yapı Durumu</th>\n",
              "      <th>Tapu Durumu</th>\n",
              "      <th>Eşya Durumu</th>\n",
              "      <th>Site İçerisinde</th>\n",
              "      <th>Türü</th>\n",
              "      <th>Tipi</th>\n",
              "      <th>Brüt Metrekare</th>\n",
              "      <th>Binanın Yaşı</th>\n",
              "      <th>Binanın Kat Sayısı</th>\n",
              "      <th>Kullanım Durumu</th>\n",
              "      <th>Yatırıma Uygunluk</th>\n",
              "      <th>Banyo Sayısı</th>\n",
              "      <th>Balkon Sayısı</th>\n",
              "      <th>WC Sayısı</th>\n",
              "    </tr>\n",
              "  </thead>\n",
              "  <tbody>\n",
              "    <tr>\n",
              "      <th>0</th>\n",
              "      <td>2,250,000TL</td>\n",
              "      <td>Adana - Aladağ - Ceritler Mahallesi</td>\n",
              "      <td>3+1</td>\n",
              "      <td>Belirtilmemiş</td>\n",
              "      <td>Isıtma Yok</td>\n",
              "      <td>Krediye Uygun</td>\n",
              "      <td>Belirtilmemiş</td>\n",
              "      <td>Belirtilmemiş</td>\n",
              "      <td>Boş</td>\n",
              "      <td>Hayır</td>\n",
              "      <td>Konut</td>\n",
              "      <td>Müstakil Ev</td>\n",
              "      <td>135 M2</td>\n",
              "      <td>0 (Yeni)</td>\n",
              "      <td>2</td>\n",
              "      <td>Boş</td>\n",
              "      <td>Belirtilmemiş</td>\n",
              "      <td>2</td>\n",
              "      <td>1</td>\n",
              "      <td>Belirtilmemiş</td>\n",
              "    </tr>\n",
              "    <tr>\n",
              "      <th>1</th>\n",
              "      <td>2,500,000TL</td>\n",
              "      <td>Adana - Aladağ - Ceritler Mahallesi</td>\n",
              "      <td>4+2</td>\n",
              "      <td>Belirtilmemiş</td>\n",
              "      <td>Sobalı</td>\n",
              "      <td>Bilinmiyor</td>\n",
              "      <td>Belirtilmemiş</td>\n",
              "      <td>Belirtilmemiş</td>\n",
              "      <td>Belirtilmemiş</td>\n",
              "      <td>Hayır</td>\n",
              "      <td>Konut</td>\n",
              "      <td>Müstakil Ev</td>\n",
              "      <td>300 M2</td>\n",
              "      <td>16-20</td>\n",
              "      <td>2</td>\n",
              "      <td>Boş</td>\n",
              "      <td>Belirtilmemiş</td>\n",
              "      <td>2</td>\n",
              "      <td>Belirtilmemiş</td>\n",
              "      <td>Belirtilmemiş</td>\n",
              "    </tr>\n",
              "    <tr>\n",
              "      <th>2</th>\n",
              "      <td>900,000TL</td>\n",
              "      <td>Adana - Aladağ - Ceritler Mahallesi</td>\n",
              "      <td>1 Oda</td>\n",
              "      <td>Belirtilmemiş</td>\n",
              "      <td>Sobalı</td>\n",
              "      <td>Bilinmiyor</td>\n",
              "      <td>Belirtilmemiş</td>\n",
              "      <td>Belirtilmemiş</td>\n",
              "      <td>Belirtilmemiş</td>\n",
              "      <td>Hayır</td>\n",
              "      <td>Konut</td>\n",
              "      <td>Müstakil Ev</td>\n",
              "      <td>725 M2</td>\n",
              "      <td>21 Ve Üzeri</td>\n",
              "      <td>1</td>\n",
              "      <td>Boş</td>\n",
              "      <td>Belirtilmemiş</td>\n",
              "      <td>1</td>\n",
              "      <td>Belirtilmemiş</td>\n",
              "      <td>Belirtilmemiş</td>\n",
              "    </tr>\n",
              "    <tr>\n",
              "      <th>3</th>\n",
              "      <td>1,240,000TL</td>\n",
              "      <td>Adana - Ceyhan - Namık Kemal Mahallesi</td>\n",
              "      <td>2+1</td>\n",
              "      <td>5.Kat</td>\n",
              "      <td>Isıtma Yok</td>\n",
              "      <td>Krediye Uygun</td>\n",
              "      <td>İkinci El</td>\n",
              "      <td>Kat Mülkiyeti</td>\n",
              "      <td>Boş</td>\n",
              "      <td>Hayır</td>\n",
              "      <td>Konut</td>\n",
              "      <td>Daire</td>\n",
              "      <td>87 M2</td>\n",
              "      <td>21 Ve Üzeri</td>\n",
              "      <td>5</td>\n",
              "      <td>Kiracı Oturuyor</td>\n",
              "      <td>Bilinmiyor</td>\n",
              "      <td>1</td>\n",
              "      <td>Belirtilmemiş</td>\n",
              "      <td>Belirtilmemiş</td>\n",
              "    </tr>\n",
              "    <tr>\n",
              "      <th>4</th>\n",
              "      <td>4,800,000TL</td>\n",
              "      <td>Adana - Ceyhan - Şahin Özbilen Mahallesi</td>\n",
              "      <td>2+1</td>\n",
              "      <td>Yüksek Giriş</td>\n",
              "      <td>Klimalı</td>\n",
              "      <td>Krediye Uygun</td>\n",
              "      <td>Belirtilmemiş</td>\n",
              "      <td>Belirtilmemiş</td>\n",
              "      <td>Belirtilmemiş</td>\n",
              "      <td>Hayır</td>\n",
              "      <td>Konut</td>\n",
              "      <td>Daire</td>\n",
              "      <td>120 M2</td>\n",
              "      <td>15-Nov</td>\n",
              "      <td>1</td>\n",
              "      <td>Kiracı Oturuyor</td>\n",
              "      <td>Belirtilmemiş</td>\n",
              "      <td>1</td>\n",
              "      <td>Belirtilmemiş</td>\n",
              "      <td>Belirtilmemiş</td>\n",
              "    </tr>\n",
              "  </tbody>\n",
              "</table>\n",
              "</div>\n",
              "    <div class=\"colab-df-buttons\">\n",
              "\n",
              "  <div class=\"colab-df-container\">\n",
              "    <button class=\"colab-df-convert\" onclick=\"convertToInteractive('df-b577e9a0-4f71-4505-a92b-9261e699d58e')\"\n",
              "            title=\"Convert this dataframe to an interactive table.\"\n",
              "            style=\"display:none;\">\n",
              "\n",
              "  <svg xmlns=\"http://www.w3.org/2000/svg\" height=\"24px\" viewBox=\"0 -960 960 960\">\n",
              "    <path d=\"M120-120v-720h720v720H120Zm60-500h600v-160H180v160Zm220 220h160v-160H400v160Zm0 220h160v-160H400v160ZM180-400h160v-160H180v160Zm440 0h160v-160H620v160ZM180-180h160v-160H180v160Zm440 0h160v-160H620v160Z\"/>\n",
              "  </svg>\n",
              "    </button>\n",
              "\n",
              "  <style>\n",
              "    .colab-df-container {\n",
              "      display:flex;\n",
              "      gap: 12px;\n",
              "    }\n",
              "\n",
              "    .colab-df-convert {\n",
              "      background-color: #E8F0FE;\n",
              "      border: none;\n",
              "      border-radius: 50%;\n",
              "      cursor: pointer;\n",
              "      display: none;\n",
              "      fill: #1967D2;\n",
              "      height: 32px;\n",
              "      padding: 0 0 0 0;\n",
              "      width: 32px;\n",
              "    }\n",
              "\n",
              "    .colab-df-convert:hover {\n",
              "      background-color: #E2EBFA;\n",
              "      box-shadow: 0px 1px 2px rgba(60, 64, 67, 0.3), 0px 1px 3px 1px rgba(60, 64, 67, 0.15);\n",
              "      fill: #174EA6;\n",
              "    }\n",
              "\n",
              "    .colab-df-buttons div {\n",
              "      margin-bottom: 4px;\n",
              "    }\n",
              "\n",
              "    [theme=dark] .colab-df-convert {\n",
              "      background-color: #3B4455;\n",
              "      fill: #D2E3FC;\n",
              "    }\n",
              "\n",
              "    [theme=dark] .colab-df-convert:hover {\n",
              "      background-color: #434B5C;\n",
              "      box-shadow: 0px 1px 3px 1px rgba(0, 0, 0, 0.15);\n",
              "      filter: drop-shadow(0px 1px 2px rgba(0, 0, 0, 0.3));\n",
              "      fill: #FFFFFF;\n",
              "    }\n",
              "  </style>\n",
              "\n",
              "    <script>\n",
              "      const buttonEl =\n",
              "        document.querySelector('#df-b577e9a0-4f71-4505-a92b-9261e699d58e button.colab-df-convert');\n",
              "      buttonEl.style.display =\n",
              "        google.colab.kernel.accessAllowed ? 'block' : 'none';\n",
              "\n",
              "      async function convertToInteractive(key) {\n",
              "        const element = document.querySelector('#df-b577e9a0-4f71-4505-a92b-9261e699d58e');\n",
              "        const dataTable =\n",
              "          await google.colab.kernel.invokeFunction('convertToInteractive',\n",
              "                                                    [key], {});\n",
              "        if (!dataTable) return;\n",
              "\n",
              "        const docLinkHtml = 'Like what you see? Visit the ' +\n",
              "          '<a target=\"_blank\" href=https://colab.research.google.com/notebooks/data_table.ipynb>data table notebook</a>'\n",
              "          + ' to learn more about interactive tables.';\n",
              "        element.innerHTML = '';\n",
              "        dataTable['output_type'] = 'display_data';\n",
              "        await google.colab.output.renderOutput(dataTable, element);\n",
              "        const docLink = document.createElement('div');\n",
              "        docLink.innerHTML = docLinkHtml;\n",
              "        element.appendChild(docLink);\n",
              "      }\n",
              "    </script>\n",
              "  </div>\n",
              "\n",
              "\n",
              "<div id=\"df-a21c9f35-518f-418f-9d0c-0fd1b94e71cb\">\n",
              "  <button class=\"colab-df-quickchart\" onclick=\"quickchart('df-a21c9f35-518f-418f-9d0c-0fd1b94e71cb')\"\n",
              "            title=\"Suggest charts\"\n",
              "            style=\"display:none;\">\n",
              "\n",
              "<svg xmlns=\"http://www.w3.org/2000/svg\" height=\"24px\"viewBox=\"0 0 24 24\"\n",
              "     width=\"24px\">\n",
              "    <g>\n",
              "        <path d=\"M19 3H5c-1.1 0-2 .9-2 2v14c0 1.1.9 2 2 2h14c1.1 0 2-.9 2-2V5c0-1.1-.9-2-2-2zM9 17H7v-7h2v7zm4 0h-2V7h2v10zm4 0h-2v-4h2v4z\"/>\n",
              "    </g>\n",
              "</svg>\n",
              "  </button>\n",
              "\n",
              "<style>\n",
              "  .colab-df-quickchart {\n",
              "      --bg-color: #E8F0FE;\n",
              "      --fill-color: #1967D2;\n",
              "      --hover-bg-color: #E2EBFA;\n",
              "      --hover-fill-color: #174EA6;\n",
              "      --disabled-fill-color: #AAA;\n",
              "      --disabled-bg-color: #DDD;\n",
              "  }\n",
              "\n",
              "  [theme=dark] .colab-df-quickchart {\n",
              "      --bg-color: #3B4455;\n",
              "      --fill-color: #D2E3FC;\n",
              "      --hover-bg-color: #434B5C;\n",
              "      --hover-fill-color: #FFFFFF;\n",
              "      --disabled-bg-color: #3B4455;\n",
              "      --disabled-fill-color: #666;\n",
              "  }\n",
              "\n",
              "  .colab-df-quickchart {\n",
              "    background-color: var(--bg-color);\n",
              "    border: none;\n",
              "    border-radius: 50%;\n",
              "    cursor: pointer;\n",
              "    display: none;\n",
              "    fill: var(--fill-color);\n",
              "    height: 32px;\n",
              "    padding: 0;\n",
              "    width: 32px;\n",
              "  }\n",
              "\n",
              "  .colab-df-quickchart:hover {\n",
              "    background-color: var(--hover-bg-color);\n",
              "    box-shadow: 0 1px 2px rgba(60, 64, 67, 0.3), 0 1px 3px 1px rgba(60, 64, 67, 0.15);\n",
              "    fill: var(--button-hover-fill-color);\n",
              "  }\n",
              "\n",
              "  .colab-df-quickchart-complete:disabled,\n",
              "  .colab-df-quickchart-complete:disabled:hover {\n",
              "    background-color: var(--disabled-bg-color);\n",
              "    fill: var(--disabled-fill-color);\n",
              "    box-shadow: none;\n",
              "  }\n",
              "\n",
              "  .colab-df-spinner {\n",
              "    border: 2px solid var(--fill-color);\n",
              "    border-color: transparent;\n",
              "    border-bottom-color: var(--fill-color);\n",
              "    animation:\n",
              "      spin 1s steps(1) infinite;\n",
              "  }\n",
              "\n",
              "  @keyframes spin {\n",
              "    0% {\n",
              "      border-color: transparent;\n",
              "      border-bottom-color: var(--fill-color);\n",
              "      border-left-color: var(--fill-color);\n",
              "    }\n",
              "    20% {\n",
              "      border-color: transparent;\n",
              "      border-left-color: var(--fill-color);\n",
              "      border-top-color: var(--fill-color);\n",
              "    }\n",
              "    30% {\n",
              "      border-color: transparent;\n",
              "      border-left-color: var(--fill-color);\n",
              "      border-top-color: var(--fill-color);\n",
              "      border-right-color: var(--fill-color);\n",
              "    }\n",
              "    40% {\n",
              "      border-color: transparent;\n",
              "      border-right-color: var(--fill-color);\n",
              "      border-top-color: var(--fill-color);\n",
              "    }\n",
              "    60% {\n",
              "      border-color: transparent;\n",
              "      border-right-color: var(--fill-color);\n",
              "    }\n",
              "    80% {\n",
              "      border-color: transparent;\n",
              "      border-right-color: var(--fill-color);\n",
              "      border-bottom-color: var(--fill-color);\n",
              "    }\n",
              "    90% {\n",
              "      border-color: transparent;\n",
              "      border-bottom-color: var(--fill-color);\n",
              "    }\n",
              "  }\n",
              "</style>\n",
              "\n",
              "  <script>\n",
              "    async function quickchart(key) {\n",
              "      const quickchartButtonEl =\n",
              "        document.querySelector('#' + key + ' button');\n",
              "      quickchartButtonEl.disabled = true;  // To prevent multiple clicks.\n",
              "      quickchartButtonEl.classList.add('colab-df-spinner');\n",
              "      try {\n",
              "        const charts = await google.colab.kernel.invokeFunction(\n",
              "            'suggestCharts', [key], {});\n",
              "      } catch (error) {\n",
              "        console.error('Error during call to suggestCharts:', error);\n",
              "      }\n",
              "      quickchartButtonEl.classList.remove('colab-df-spinner');\n",
              "      quickchartButtonEl.classList.add('colab-df-quickchart-complete');\n",
              "    }\n",
              "    (() => {\n",
              "      let quickchartButtonEl =\n",
              "        document.querySelector('#df-a21c9f35-518f-418f-9d0c-0fd1b94e71cb button');\n",
              "      quickchartButtonEl.style.display =\n",
              "        google.colab.kernel.accessAllowed ? 'block' : 'none';\n",
              "    })();\n",
              "  </script>\n",
              "</div>\n",
              "\n",
              "    </div>\n",
              "  </div>\n"
            ],
            "application/vnd.google.colaboratory.intrinsic+json": {
              "type": "dataframe",
              "variable_name": "df"
            }
          },
          "metadata": {},
          "execution_count": 2
        }
      ]
    },
    {
      "cell_type": "markdown",
      "source": [
        "# EDA"
      ],
      "metadata": {
        "id": "b8_9KC15mSr0"
      }
    },
    {
      "cell_type": "code",
      "source": [
        "df.info()"
      ],
      "metadata": {
        "id": "NJgGDH25yMol",
        "outputId": "edb58322-275a-44eb-cc86-cc0559ee2e91",
        "colab": {
          "base_uri": "https://localhost:8080/"
        }
      },
      "execution_count": null,
      "outputs": [
        {
          "output_type": "stream",
          "name": "stdout",
          "text": [
            "<class 'pandas.core.frame.DataFrame'>\n",
            "RangeIndex: 154802 entries, 0 to 154801\n",
            "Data columns (total 20 columns):\n",
            " #   Column              Non-Null Count   Dtype \n",
            "---  ------              --------------   ----- \n",
            " 0   Fiyat               154802 non-null  object\n",
            " 1   Adres               154802 non-null  object\n",
            " 2   Oda Sayısı          154802 non-null  object\n",
            " 3   Bulunduğu Kat       154802 non-null  object\n",
            " 4   Isıtma Tipi         154802 non-null  object\n",
            " 5   Krediye Uygunluk    154802 non-null  object\n",
            " 6   Yapı Durumu         154802 non-null  object\n",
            " 7   Tapu Durumu         154802 non-null  object\n",
            " 8   Eşya Durumu         154802 non-null  object\n",
            " 9   Site İçerisinde     154802 non-null  object\n",
            " 10  Türü                154802 non-null  object\n",
            " 11  Tipi                154802 non-null  object\n",
            " 12  Brüt Metrekare      154802 non-null  object\n",
            " 13  Binanın Yaşı        154802 non-null  object\n",
            " 14  Binanın Kat Sayısı  154802 non-null  int64 \n",
            " 15  Kullanım Durumu     154802 non-null  object\n",
            " 16  Yatırıma Uygunluk   154802 non-null  object\n",
            " 17  Banyo Sayısı        154802 non-null  int64 \n",
            " 18  Balkon Sayısı       154802 non-null  object\n",
            " 19  WC Sayısı           154802 non-null  object\n",
            "dtypes: int64(2), object(18)\n",
            "memory usage: 23.6+ MB\n"
          ]
        }
      ]
    },
    {
      "cell_type": "code",
      "source": [
        "df.nunique()"
      ],
      "metadata": {
        "colab": {
          "base_uri": "https://localhost:8080/"
        },
        "id": "NjsGVWeI403n",
        "outputId": "e8c5e348-dc4e-4413-9d00-d8ee027c40e8"
      },
      "execution_count": null,
      "outputs": [
        {
          "output_type": "execute_result",
          "data": {
            "text/plain": [
              "Fiyat                 11250\n",
              "Adres                  9104\n",
              "Oda Sayısı               35\n",
              "Bulunduğu Kat            54\n",
              "Isıtma Tipi              21\n",
              "Krediye Uygunluk          3\n",
              "Yapı Durumu               4\n",
              "Tapu Durumu               7\n",
              "Eşya Durumu               3\n",
              "Site İçerisinde           2\n",
              "Türü                      1\n",
              "Tipi                     15\n",
              "Brüt Metrekare         1267\n",
              "Binanın Yaşı              9\n",
              "Binanın Kat Sayısı       60\n",
              "Kullanım Durumu           3\n",
              "Yatırıma Uygunluk         4\n",
              "Banyo Sayısı              5\n",
              "Balkon Sayısı             4\n",
              "WC Sayısı                 8\n",
              "dtype: int64"
            ]
          },
          "metadata": {},
          "execution_count": 4
        }
      ]
    },
    {
      "cell_type": "code",
      "source": [
        "df.columns"
      ],
      "metadata": {
        "colab": {
          "base_uri": "https://localhost:8080/"
        },
        "id": "HqRd9h5i6eqP",
        "outputId": "5b53d373-dee8-4e81-ad75-d209a2ef37af"
      },
      "execution_count": null,
      "outputs": [
        {
          "output_type": "execute_result",
          "data": {
            "text/plain": [
              "Index(['Fiyat', 'Adres', 'Oda Sayısı', 'Bulunduğu Kat', 'Isıtma Tipi',\n",
              "       'Krediye Uygunluk', 'Yapı Durumu', 'Tapu Durumu', 'Eşya Durumu',\n",
              "       'Site İçerisinde', 'Türü', 'Tipi', 'Brüt Metrekare', 'Binanın Yaşı',\n",
              "       'Binanın Kat Sayısı', 'Kullanım Durumu', 'Yatırıma Uygunluk',\n",
              "       'Banyo Sayısı', 'Balkon Sayısı', 'WC Sayısı'],\n",
              "      dtype='object')"
            ]
          },
          "metadata": {},
          "execution_count": 5
        }
      ]
    },
    {
      "cell_type": "markdown",
      "source": [
        "# İl-İlçe-Mahalle Sutünu Oluşturma"
      ],
      "metadata": {
        "id": "QYFrgXUnmYFS"
      }
    },
    {
      "cell_type": "code",
      "source": [
        "df[\"TireSayisi\"] = df[\"Adres\"].str.count('-')"
      ],
      "metadata": {
        "id": "S6oYZz3sNP1g"
      },
      "execution_count": null,
      "outputs": []
    },
    {
      "cell_type": "code",
      "source": [
        "print(df[[\"Adres\",\"TireSayisi\"]].head())"
      ],
      "metadata": {
        "colab": {
          "base_uri": "https://localhost:8080/"
        },
        "id": "0MEOiADtNbLq",
        "outputId": "a417109e-1df1-4429-d6c1-d45417e3b0e8"
      },
      "execution_count": null,
      "outputs": [
        {
          "output_type": "stream",
          "name": "stdout",
          "text": [
            "                                      Adres  TireSayisi\n",
            "0       Adana - Aladağ - Ceritler Mahallesi           2\n",
            "1       Adana - Aladağ - Ceritler Mahallesi           2\n",
            "2       Adana - Aladağ - Ceritler Mahallesi           2\n",
            "3    Adana - Ceyhan - Namık Kemal Mahallesi           2\n",
            "4  Adana - Ceyhan - Şahin Özbilen Mahallesi           2\n"
          ]
        }
      ]
    },
    {
      "cell_type": "code",
      "source": [
        "filtre = df[\"TireSayisi\"] > 2\n",
        "\n",
        "ikiden_fazla_tire_df = df[filtre]\n"
      ],
      "metadata": {
        "id": "biFw4Zn6N2Id"
      },
      "execution_count": null,
      "outputs": []
    },
    {
      "cell_type": "code",
      "source": [
        "pd.set_option('display.max_rows', None)\n",
        "\n",
        "\"\"\" ikiden fazla tire kullanılmış adreslerin hepsinde ikinci tireden sonraki\n",
        "tirelerin bizim için anlamsız olduğundan emin olmak için tüm satırların görünür olması için bu kodu yazdık. \"\"\"\n"
      ],
      "metadata": {
        "colab": {
          "base_uri": "https://localhost:8080/",
          "height": 35
        },
        "id": "NlzV1gDLQyEm",
        "outputId": "c0b91326-2419-4442-ab04-d9a7a9c42488"
      },
      "execution_count": null,
      "outputs": [
        {
          "output_type": "execute_result",
          "data": {
            "text/plain": [
              "' ikiden fazla tire kullanılmış adreslerin hepsinde ikinci tireden sonraki\\ntirelerin bizim için anlamsız olduğundan emin olmak için tüm satırların görünür olması için bu kodu yazdık. '"
            ],
            "application/vnd.google.colaboratory.intrinsic+json": {
              "type": "string"
            }
          },
          "metadata": {},
          "execution_count": 9
        }
      ]
    },
    {
      "cell_type": "code",
      "source": [
        "df_unique = ikiden_fazla_tire_df[\"Adres\"].drop_duplicates()\n",
        "print(df_unique)"
      ],
      "metadata": {
        "colab": {
          "base_uri": "https://localhost:8080/"
        },
        "id": "a4gu0Uf-PTRY",
        "outputId": "690bd109-2326-4677-92c8-fa71bbbebaad"
      },
      "execution_count": null,
      "outputs": [
        {
          "output_type": "stream",
          "name": "stdout",
          "text": [
            "3422                 Aydın - Didim - Ak - Yeniköy Mahallesi\n",
            "4820      Aydın - Efeler - Hasanefendi - Ramazan Paşa Ma...\n",
            "4923         Aydın - Efeler - Köprülü - Veysipaşa Mahallesi\n",
            "18625     İstanbul - Bakırköy - Ataköy 7-8-9-10. Kısım M...\n",
            "18627     İstanbul - Bakırköy - Ataköy 2-5-6. Kısım Maha...\n",
            "18897     İstanbul - Bakırköy - Ataköy 3-4-11. Kısım Mah...\n",
            "28092            İstanbul - Fatih - Hırka-i Şerif Mahallesi\n",
            "44681          İstanbul - Üsküdar - Valide-i Atik Mahallesi\n",
            "62153                      İzmir - Çiğli - Evka-5 Mahallesi\n",
            "62166                    İzmir - Çiğli - Evka - 2 Mahallesi\n",
            "62225                    İzmir - Çiğli - Evka - 6 Mahallesi\n",
            "90883              Konya - Meram - Ateşbaz-I Veli Mahallesi\n",
            "95956      Mersin - Akdeniz - Bağcılar - İhsaniye Mahallesi\n",
            "108231    Balıkesir - Ayvalık - Fevzipaşa - Vehbibey Mah...\n",
            "111431        Balıkesir - Karesi - Kuva-İ Milliye Mahallesi\n",
            "112448    Bingöl - Bingöl Merkez - Selahaddin-i Eyyubi M...\n",
            "123036          Gaziantep - Şahinbey - İbn-İ Sina Mahallesi\n",
            "138802        Sivas - Sivas Merkez - Cami-İ Kebir Mahallesi\n",
            "146025    Tekirdağ - Muratlı - İstiklal - Kurtpınar Maha...\n",
            "146062    Tekirdağ - Muratlı - Kazım Dirik - Turan Mahal...\n",
            "147799       Tokat - Tokat Merkez - Kabe-i Mescid Mahallesi\n",
            "Name: Adres, dtype: object\n"
          ]
        }
      ]
    },
    {
      "cell_type": "code",
      "source": [
        "df[['Il', 'Ilce', 'Mahalle']] = df['Adres'].str.split(' - ', n=2, expand=True)\n",
        "\n",
        "\"\"\" n = 2 ile tire sayısını bazı satırlar için 2 den fazla olabildiği için ikinciden sonraki tireleri\n",
        "ayırmamasını sağlamış oluyoruz.\n",
        "Expand = True ile yenis sütun oluşturması gerektiğini\n",
        "\"-\" ile de tirelere göre split işlemini uygulaması gerektiğini bildiriyoruz. \"\"\"\n",
        "\n",
        "df[[\"Il\",\"Ilce\",\"Mahalle\"]].head()"
      ],
      "metadata": {
        "colab": {
          "base_uri": "https://localhost:8080/",
          "height": 206
        },
        "id": "GyltGr8RMd3l",
        "outputId": "7579375e-5777-4c03-ba40-71cc6abace68"
      },
      "execution_count": null,
      "outputs": [
        {
          "output_type": "execute_result",
          "data": {
            "text/plain": [
              "      Il    Ilce                  Mahalle\n",
              "0  Adana  Aladağ       Ceritler Mahallesi\n",
              "1  Adana  Aladağ       Ceritler Mahallesi\n",
              "2  Adana  Aladağ       Ceritler Mahallesi\n",
              "3  Adana  Ceyhan    Namık Kemal Mahallesi\n",
              "4  Adana  Ceyhan  Şahin Özbilen Mahallesi"
            ],
            "text/html": [
              "\n",
              "  <div id=\"df-ed6732d6-c077-47ad-94e9-d63ca6463336\" class=\"colab-df-container\">\n",
              "    <div>\n",
              "<style scoped>\n",
              "    .dataframe tbody tr th:only-of-type {\n",
              "        vertical-align: middle;\n",
              "    }\n",
              "\n",
              "    .dataframe tbody tr th {\n",
              "        vertical-align: top;\n",
              "    }\n",
              "\n",
              "    .dataframe thead th {\n",
              "        text-align: right;\n",
              "    }\n",
              "</style>\n",
              "<table border=\"1\" class=\"dataframe\">\n",
              "  <thead>\n",
              "    <tr style=\"text-align: right;\">\n",
              "      <th></th>\n",
              "      <th>Il</th>\n",
              "      <th>Ilce</th>\n",
              "      <th>Mahalle</th>\n",
              "    </tr>\n",
              "  </thead>\n",
              "  <tbody>\n",
              "    <tr>\n",
              "      <th>0</th>\n",
              "      <td>Adana</td>\n",
              "      <td>Aladağ</td>\n",
              "      <td>Ceritler Mahallesi</td>\n",
              "    </tr>\n",
              "    <tr>\n",
              "      <th>1</th>\n",
              "      <td>Adana</td>\n",
              "      <td>Aladağ</td>\n",
              "      <td>Ceritler Mahallesi</td>\n",
              "    </tr>\n",
              "    <tr>\n",
              "      <th>2</th>\n",
              "      <td>Adana</td>\n",
              "      <td>Aladağ</td>\n",
              "      <td>Ceritler Mahallesi</td>\n",
              "    </tr>\n",
              "    <tr>\n",
              "      <th>3</th>\n",
              "      <td>Adana</td>\n",
              "      <td>Ceyhan</td>\n",
              "      <td>Namık Kemal Mahallesi</td>\n",
              "    </tr>\n",
              "    <tr>\n",
              "      <th>4</th>\n",
              "      <td>Adana</td>\n",
              "      <td>Ceyhan</td>\n",
              "      <td>Şahin Özbilen Mahallesi</td>\n",
              "    </tr>\n",
              "  </tbody>\n",
              "</table>\n",
              "</div>\n",
              "    <div class=\"colab-df-buttons\">\n",
              "\n",
              "  <div class=\"colab-df-container\">\n",
              "    <button class=\"colab-df-convert\" onclick=\"convertToInteractive('df-ed6732d6-c077-47ad-94e9-d63ca6463336')\"\n",
              "            title=\"Convert this dataframe to an interactive table.\"\n",
              "            style=\"display:none;\">\n",
              "\n",
              "  <svg xmlns=\"http://www.w3.org/2000/svg\" height=\"24px\" viewBox=\"0 -960 960 960\">\n",
              "    <path d=\"M120-120v-720h720v720H120Zm60-500h600v-160H180v160Zm220 220h160v-160H400v160Zm0 220h160v-160H400v160ZM180-400h160v-160H180v160Zm440 0h160v-160H620v160ZM180-180h160v-160H180v160Zm440 0h160v-160H620v160Z\"/>\n",
              "  </svg>\n",
              "    </button>\n",
              "\n",
              "  <style>\n",
              "    .colab-df-container {\n",
              "      display:flex;\n",
              "      gap: 12px;\n",
              "    }\n",
              "\n",
              "    .colab-df-convert {\n",
              "      background-color: #E8F0FE;\n",
              "      border: none;\n",
              "      border-radius: 50%;\n",
              "      cursor: pointer;\n",
              "      display: none;\n",
              "      fill: #1967D2;\n",
              "      height: 32px;\n",
              "      padding: 0 0 0 0;\n",
              "      width: 32px;\n",
              "    }\n",
              "\n",
              "    .colab-df-convert:hover {\n",
              "      background-color: #E2EBFA;\n",
              "      box-shadow: 0px 1px 2px rgba(60, 64, 67, 0.3), 0px 1px 3px 1px rgba(60, 64, 67, 0.15);\n",
              "      fill: #174EA6;\n",
              "    }\n",
              "\n",
              "    .colab-df-buttons div {\n",
              "      margin-bottom: 4px;\n",
              "    }\n",
              "\n",
              "    [theme=dark] .colab-df-convert {\n",
              "      background-color: #3B4455;\n",
              "      fill: #D2E3FC;\n",
              "    }\n",
              "\n",
              "    [theme=dark] .colab-df-convert:hover {\n",
              "      background-color: #434B5C;\n",
              "      box-shadow: 0px 1px 3px 1px rgba(0, 0, 0, 0.15);\n",
              "      filter: drop-shadow(0px 1px 2px rgba(0, 0, 0, 0.3));\n",
              "      fill: #FFFFFF;\n",
              "    }\n",
              "  </style>\n",
              "\n",
              "    <script>\n",
              "      const buttonEl =\n",
              "        document.querySelector('#df-ed6732d6-c077-47ad-94e9-d63ca6463336 button.colab-df-convert');\n",
              "      buttonEl.style.display =\n",
              "        google.colab.kernel.accessAllowed ? 'block' : 'none';\n",
              "\n",
              "      async function convertToInteractive(key) {\n",
              "        const element = document.querySelector('#df-ed6732d6-c077-47ad-94e9-d63ca6463336');\n",
              "        const dataTable =\n",
              "          await google.colab.kernel.invokeFunction('convertToInteractive',\n",
              "                                                    [key], {});\n",
              "        if (!dataTable) return;\n",
              "\n",
              "        const docLinkHtml = 'Like what you see? Visit the ' +\n",
              "          '<a target=\"_blank\" href=https://colab.research.google.com/notebooks/data_table.ipynb>data table notebook</a>'\n",
              "          + ' to learn more about interactive tables.';\n",
              "        element.innerHTML = '';\n",
              "        dataTable['output_type'] = 'display_data';\n",
              "        await google.colab.output.renderOutput(dataTable, element);\n",
              "        const docLink = document.createElement('div');\n",
              "        docLink.innerHTML = docLinkHtml;\n",
              "        element.appendChild(docLink);\n",
              "      }\n",
              "    </script>\n",
              "  </div>\n",
              "\n",
              "\n",
              "<div id=\"df-4eb960ff-ef99-4cd0-bd78-90ccab198b51\">\n",
              "  <button class=\"colab-df-quickchart\" onclick=\"quickchart('df-4eb960ff-ef99-4cd0-bd78-90ccab198b51')\"\n",
              "            title=\"Suggest charts\"\n",
              "            style=\"display:none;\">\n",
              "\n",
              "<svg xmlns=\"http://www.w3.org/2000/svg\" height=\"24px\"viewBox=\"0 0 24 24\"\n",
              "     width=\"24px\">\n",
              "    <g>\n",
              "        <path d=\"M19 3H5c-1.1 0-2 .9-2 2v14c0 1.1.9 2 2 2h14c1.1 0 2-.9 2-2V5c0-1.1-.9-2-2-2zM9 17H7v-7h2v7zm4 0h-2V7h2v10zm4 0h-2v-4h2v4z\"/>\n",
              "    </g>\n",
              "</svg>\n",
              "  </button>\n",
              "\n",
              "<style>\n",
              "  .colab-df-quickchart {\n",
              "      --bg-color: #E8F0FE;\n",
              "      --fill-color: #1967D2;\n",
              "      --hover-bg-color: #E2EBFA;\n",
              "      --hover-fill-color: #174EA6;\n",
              "      --disabled-fill-color: #AAA;\n",
              "      --disabled-bg-color: #DDD;\n",
              "  }\n",
              "\n",
              "  [theme=dark] .colab-df-quickchart {\n",
              "      --bg-color: #3B4455;\n",
              "      --fill-color: #D2E3FC;\n",
              "      --hover-bg-color: #434B5C;\n",
              "      --hover-fill-color: #FFFFFF;\n",
              "      --disabled-bg-color: #3B4455;\n",
              "      --disabled-fill-color: #666;\n",
              "  }\n",
              "\n",
              "  .colab-df-quickchart {\n",
              "    background-color: var(--bg-color);\n",
              "    border: none;\n",
              "    border-radius: 50%;\n",
              "    cursor: pointer;\n",
              "    display: none;\n",
              "    fill: var(--fill-color);\n",
              "    height: 32px;\n",
              "    padding: 0;\n",
              "    width: 32px;\n",
              "  }\n",
              "\n",
              "  .colab-df-quickchart:hover {\n",
              "    background-color: var(--hover-bg-color);\n",
              "    box-shadow: 0 1px 2px rgba(60, 64, 67, 0.3), 0 1px 3px 1px rgba(60, 64, 67, 0.15);\n",
              "    fill: var(--button-hover-fill-color);\n",
              "  }\n",
              "\n",
              "  .colab-df-quickchart-complete:disabled,\n",
              "  .colab-df-quickchart-complete:disabled:hover {\n",
              "    background-color: var(--disabled-bg-color);\n",
              "    fill: var(--disabled-fill-color);\n",
              "    box-shadow: none;\n",
              "  }\n",
              "\n",
              "  .colab-df-spinner {\n",
              "    border: 2px solid var(--fill-color);\n",
              "    border-color: transparent;\n",
              "    border-bottom-color: var(--fill-color);\n",
              "    animation:\n",
              "      spin 1s steps(1) infinite;\n",
              "  }\n",
              "\n",
              "  @keyframes spin {\n",
              "    0% {\n",
              "      border-color: transparent;\n",
              "      border-bottom-color: var(--fill-color);\n",
              "      border-left-color: var(--fill-color);\n",
              "    }\n",
              "    20% {\n",
              "      border-color: transparent;\n",
              "      border-left-color: var(--fill-color);\n",
              "      border-top-color: var(--fill-color);\n",
              "    }\n",
              "    30% {\n",
              "      border-color: transparent;\n",
              "      border-left-color: var(--fill-color);\n",
              "      border-top-color: var(--fill-color);\n",
              "      border-right-color: var(--fill-color);\n",
              "    }\n",
              "    40% {\n",
              "      border-color: transparent;\n",
              "      border-right-color: var(--fill-color);\n",
              "      border-top-color: var(--fill-color);\n",
              "    }\n",
              "    60% {\n",
              "      border-color: transparent;\n",
              "      border-right-color: var(--fill-color);\n",
              "    }\n",
              "    80% {\n",
              "      border-color: transparent;\n",
              "      border-right-color: var(--fill-color);\n",
              "      border-bottom-color: var(--fill-color);\n",
              "    }\n",
              "    90% {\n",
              "      border-color: transparent;\n",
              "      border-bottom-color: var(--fill-color);\n",
              "    }\n",
              "  }\n",
              "</style>\n",
              "\n",
              "  <script>\n",
              "    async function quickchart(key) {\n",
              "      const quickchartButtonEl =\n",
              "        document.querySelector('#' + key + ' button');\n",
              "      quickchartButtonEl.disabled = true;  // To prevent multiple clicks.\n",
              "      quickchartButtonEl.classList.add('colab-df-spinner');\n",
              "      try {\n",
              "        const charts = await google.colab.kernel.invokeFunction(\n",
              "            'suggestCharts', [key], {});\n",
              "      } catch (error) {\n",
              "        console.error('Error during call to suggestCharts:', error);\n",
              "      }\n",
              "      quickchartButtonEl.classList.remove('colab-df-spinner');\n",
              "      quickchartButtonEl.classList.add('colab-df-quickchart-complete');\n",
              "    }\n",
              "    (() => {\n",
              "      let quickchartButtonEl =\n",
              "        document.querySelector('#df-4eb960ff-ef99-4cd0-bd78-90ccab198b51 button');\n",
              "      quickchartButtonEl.style.display =\n",
              "        google.colab.kernel.accessAllowed ? 'block' : 'none';\n",
              "    })();\n",
              "  </script>\n",
              "</div>\n",
              "\n",
              "    </div>\n",
              "  </div>\n"
            ],
            "application/vnd.google.colaboratory.intrinsic+json": {
              "type": "dataframe",
              "summary": "{\n  \"name\": \"df[[\\\"Il\\\",\\\"Ilce\\\",\\\"Mahalle\\\"]]\",\n  \"rows\": 5,\n  \"fields\": [\n    {\n      \"column\": \"Il\",\n      \"properties\": {\n        \"dtype\": \"category\",\n        \"num_unique_values\": 1,\n        \"samples\": [\n          \"Adana\"\n        ],\n        \"semantic_type\": \"\",\n        \"description\": \"\"\n      }\n    },\n    {\n      \"column\": \"Ilce\",\n      \"properties\": {\n        \"dtype\": \"category\",\n        \"num_unique_values\": 2,\n        \"samples\": [\n          \"Ceyhan\"\n        ],\n        \"semantic_type\": \"\",\n        \"description\": \"\"\n      }\n    },\n    {\n      \"column\": \"Mahalle\",\n      \"properties\": {\n        \"dtype\": \"string\",\n        \"num_unique_values\": 3,\n        \"samples\": [\n          \"Ceritler Mahallesi\"\n        ],\n        \"semantic_type\": \"\",\n        \"description\": \"\"\n      }\n    }\n  ]\n}"
            }
          },
          "metadata": {},
          "execution_count": 11
        }
      ]
    },
    {
      "cell_type": "code",
      "source": [
        "pd.reset_option('display.max_rows', 0) # Daha önce tüm satırları görmek istemiştik. Bu kod ile daha kısa çalışmasını sağlıyoruz.\n",
        "df.columns"
      ],
      "metadata": {
        "colab": {
          "base_uri": "https://localhost:8080/"
        },
        "id": "sW7b5COiJY9N",
        "outputId": "21a2f6b4-702a-4b4e-b392-84246915bc88"
      },
      "execution_count": null,
      "outputs": [
        {
          "output_type": "execute_result",
          "data": {
            "text/plain": [
              "Index(['Fiyat', 'Adres', 'Oda Sayısı', 'Bulunduğu Kat', 'Isıtma Tipi',\n",
              "       'Krediye Uygunluk', 'Yapı Durumu', 'Tapu Durumu', 'Eşya Durumu',\n",
              "       'Site İçerisinde', 'Türü', 'Tipi', 'Brüt Metrekare', 'Binanın Yaşı',\n",
              "       'Binanın Kat Sayısı', 'Kullanım Durumu', 'Yatırıma Uygunluk',\n",
              "       'Banyo Sayısı', 'Balkon Sayısı', 'WC Sayısı', 'TireSayisi', 'Il',\n",
              "       'Ilce', 'Mahalle'],\n",
              "      dtype='object')"
            ]
          },
          "metadata": {},
          "execution_count": 12
        }
      ]
    },
    {
      "cell_type": "code",
      "source": [
        "ankara_df = df.loc[df['Il'] == 'Ankara']\n",
        "ankara_df.info()"
      ],
      "metadata": {
        "colab": {
          "base_uri": "https://localhost:8080/"
        },
        "id": "7ZZxpVPlL3sc",
        "outputId": "501f4e8e-341e-4d2b-beff-72b01ab89b6e"
      },
      "execution_count": null,
      "outputs": [
        {
          "output_type": "stream",
          "name": "stdout",
          "text": [
            "<class 'pandas.core.frame.DataFrame'>\n",
            "Index: 11858 entries, 45973 to 57830\n",
            "Data columns (total 24 columns):\n",
            " #   Column              Non-Null Count  Dtype \n",
            "---  ------              --------------  ----- \n",
            " 0   Fiyat               11858 non-null  object\n",
            " 1   Adres               11858 non-null  object\n",
            " 2   Oda Sayısı          11858 non-null  object\n",
            " 3   Bulunduğu Kat       11858 non-null  object\n",
            " 4   Isıtma Tipi         11858 non-null  object\n",
            " 5   Krediye Uygunluk    11858 non-null  object\n",
            " 6   Yapı Durumu         11858 non-null  object\n",
            " 7   Tapu Durumu         11858 non-null  object\n",
            " 8   Eşya Durumu         11858 non-null  object\n",
            " 9   Site İçerisinde     11858 non-null  object\n",
            " 10  Türü                11858 non-null  object\n",
            " 11  Tipi                11858 non-null  object\n",
            " 12  Brüt Metrekare      11858 non-null  object\n",
            " 13  Binanın Yaşı        11858 non-null  object\n",
            " 14  Binanın Kat Sayısı  11858 non-null  int64 \n",
            " 15  Kullanım Durumu     11858 non-null  object\n",
            " 16  Yatırıma Uygunluk   11858 non-null  object\n",
            " 17  Banyo Sayısı        11858 non-null  int64 \n",
            " 18  Balkon Sayısı       11858 non-null  object\n",
            " 19  WC Sayısı           11858 non-null  object\n",
            " 20  TireSayisi          11858 non-null  int64 \n",
            " 21  Il                  11858 non-null  object\n",
            " 22  Ilce                11858 non-null  object\n",
            " 23  Mahalle             11858 non-null  object\n",
            "dtypes: int64(3), object(21)\n",
            "memory usage: 2.3+ MB\n"
          ]
        }
      ]
    },
    {
      "cell_type": "code",
      "source": [
        "print(ankara_df.shape) # verinin size bilgisini verir\n"
      ],
      "metadata": {
        "colab": {
          "base_uri": "https://localhost:8080/"
        },
        "id": "WotLOzxtpvLi",
        "outputId": "555cb42b-f339-42b4-d4d5-f00432d0799a"
      },
      "execution_count": null,
      "outputs": [
        {
          "output_type": "stream",
          "name": "stdout",
          "text": [
            "(11858, 24)\n"
          ]
        }
      ]
    },
    {
      "cell_type": "code",
      "source": [
        "print(ankara_df.dtypes) # Veri tiplerinin bilgisini verir."
      ],
      "metadata": {
        "colab": {
          "base_uri": "https://localhost:8080/"
        },
        "id": "YH-Eswh1usE4",
        "outputId": "20a8b86a-fa88-4174-f401-ee6b3ae75fa0"
      },
      "execution_count": null,
      "outputs": [
        {
          "output_type": "stream",
          "name": "stdout",
          "text": [
            "Fiyat                 object\n",
            "Adres                 object\n",
            "Oda Sayısı            object\n",
            "Bulunduğu Kat         object\n",
            "Isıtma Tipi           object\n",
            "Krediye Uygunluk      object\n",
            "Yapı Durumu           object\n",
            "Tapu Durumu           object\n",
            "Eşya Durumu           object\n",
            "Site İçerisinde       object\n",
            "Türü                  object\n",
            "Tipi                  object\n",
            "Brüt Metrekare        object\n",
            "Binanın Yaşı          object\n",
            "Binanın Kat Sayısı     int64\n",
            "Kullanım Durumu       object\n",
            "Yatırıma Uygunluk     object\n",
            "Banyo Sayısı           int64\n",
            "Balkon Sayısı         object\n",
            "WC Sayısı             object\n",
            "TireSayisi             int64\n",
            "Il                    object\n",
            "Ilce                  object\n",
            "Mahalle               object\n",
            "dtype: object\n"
          ]
        }
      ]
    },
    {
      "cell_type": "code",
      "source": [
        "print(ankara_df.describe().T) # Suütunlardaki başlıca istatistik değerlerini verir."
      ],
      "metadata": {
        "colab": {
          "base_uri": "https://localhost:8080/"
        },
        "id": "89I_nCbiut44",
        "outputId": "56101b77-cd67-446a-f45c-1201b8fe784d"
      },
      "execution_count": null,
      "outputs": [
        {
          "output_type": "stream",
          "name": "stdout",
          "text": [
            "                      count      mean       std  min  25%  50%  75%   max\n",
            "Binanın Kat Sayısı  11858.0  5.842301  4.966406  1.0  3.0  4.0  6.0  43.0\n",
            "Banyo Sayısı        11858.0  1.461123  0.657290  1.0  1.0  1.0  2.0   5.0\n",
            "TireSayisi          11858.0  2.000000  0.000000  2.0  2.0  2.0  2.0   2.0\n"
          ]
        }
      ]
    },
    {
      "cell_type": "code",
      "source": [
        "print(ankara_df.corr(numeric_only=True))"
      ],
      "metadata": {
        "colab": {
          "base_uri": "https://localhost:8080/"
        },
        "id": "IG-Terq-uuxP",
        "outputId": "8c677b5e-8c57-44ac-df5a-d7b70fb97ad6"
      },
      "execution_count": null,
      "outputs": [
        {
          "output_type": "stream",
          "name": "stdout",
          "text": [
            "                    Binanın Kat Sayısı  Banyo Sayısı  TireSayisi\n",
            "Binanın Kat Sayısı            1.000000      0.244908         NaN\n",
            "Banyo Sayısı                  0.244908      1.000000         NaN\n",
            "TireSayisi                         NaN           NaN         NaN\n"
          ]
        }
      ]
    },
    {
      "cell_type": "code",
      "source": [
        "# Sütunların birbirleri üzerine ne derece etkili olduklarını gösterir.\n",
        "\"\"\" Korelasyon bizim için önemli bir parametredir. Output olacak olan fiyat bilgisi üzerinde en etkili\n",
        "olan input parametrelerinin tespit edilmesi aşamasında kullanılacaktır. \"\"\""
      ],
      "metadata": {
        "colab": {
          "base_uri": "https://localhost:8080/",
          "height": 35
        },
        "id": "yS4g737duur3",
        "outputId": "72288003-a81e-4639-8ee1-9c280f71dd90"
      },
      "execution_count": null,
      "outputs": [
        {
          "output_type": "execute_result",
          "data": {
            "text/plain": [
              "' Korelasyon bizim için önemli bir parametredir. Output olacak olan fiyat bilgisi üzerinde en etkili\\nolan input parametrelerinin tespit edilmesi aşamasında kullanılacaktır. '"
            ],
            "application/vnd.google.colaboratory.intrinsic+json": {
              "type": "string"
            }
          },
          "metadata": {},
          "execution_count": 18
        }
      ]
    },
    {
      "cell_type": "code",
      "source": [
        "ankara_df.Ilce.value_counts().plot.barh()"
      ],
      "metadata": {
        "colab": {
          "base_uri": "https://localhost:8080/",
          "height": 447
        },
        "id": "mbwMXj6auuh3",
        "outputId": "5785c677-e446-4ca9-a2e0-204892ce369b"
      },
      "execution_count": null,
      "outputs": [
        {
          "output_type": "execute_result",
          "data": {
            "text/plain": [
              "<Axes: ylabel='Ilce'>"
            ]
          },
          "metadata": {},
          "execution_count": 19
        },
        {
          "output_type": "display_data",
          "data": {
            "text/plain": [
              "<Figure size 640x480 with 1 Axes>"
            ],
            "image/png": "[encoded data removed]"
          },
          "metadata": {}
        }
      ]
    },
    {
      "cell_type": "code",
      "source": [
        "ankara_df[ankara_df['Ilce'] == \"Şereflikoçhisar\"].describe()"
      ],
      "metadata": {
        "colab": {
          "base_uri": "https://localhost:8080/",
          "height": 300
        },
        "id": "qN913tTD0Jv3",
        "outputId": "d5e28d44-69b0-4f44-beee-ceebdd503d6c"
      },
      "execution_count": null,
      "outputs": [
        {
          "output_type": "execute_result",
          "data": {
            "text/plain": [
              "       Binanın Kat Sayısı  Banyo Sayısı  TireSayisi\n",
              "count                 1.0           1.0         1.0\n",
              "mean                  3.0           1.0         2.0\n",
              "std                   NaN           NaN         NaN\n",
              "min                   3.0           1.0         2.0\n",
              "25%                   3.0           1.0         2.0\n",
              "50%                   3.0           1.0         2.0\n",
              "75%                   3.0           1.0         2.0\n",
              "max                   3.0           1.0         2.0"
            ],
            "text/html": [
              "\n",
              "  <div id=\"df-c8fbbda0-f398-4df4-ba7c-01005dc7671d\" class=\"colab-df-container\">\n",
              "    <div>\n",
              "<style scoped>\n",
              "    .dataframe tbody tr th:only-of-type {\n",
              "        vertical-align: middle;\n",
              "    }\n",
              "\n",
              "    .dataframe tbody tr th {\n",
              "        vertical-align: top;\n",
              "    }\n",
              "\n",
              "    .dataframe thead th {\n",
              "        text-align: right;\n",
              "    }\n",
              "</style>\n",
              "<table border=\"1\" class=\"dataframe\">\n",
              "  <thead>\n",
              "    <tr style=\"text-align: right;\">\n",
              "      <th></th>\n",
              "      <th>Binanın Kat Sayısı</th>\n",
              "      <th>Banyo Sayısı</th>\n",
              "      <th>TireSayisi</th>\n",
              "    </tr>\n",
              "  </thead>\n",
              "  <tbody>\n",
              "    <tr>\n",
              "      <th>count</th>\n",
              "      <td>1.0</td>\n",
              "      <td>1.0</td>\n",
              "      <td>1.0</td>\n",
              "    </tr>\n",
              "    <tr>\n",
              "      <th>mean</th>\n",
              "      <td>3.0</td>\n",
              "      <td>1.0</td>\n",
              "      <td>2.0</td>\n",
              "    </tr>\n",
              "    <tr>\n",
              "      <th>std</th>\n",
              "      <td>NaN</td>\n",
              "      <td>NaN</td>\n",
              "      <td>NaN</td>\n",
              "    </tr>\n",
              "    <tr>\n",
              "      <th>min</th>\n",
              "      <td>3.0</td>\n",
              "      <td>1.0</td>\n",
              "      <td>2.0</td>\n",
              "    </tr>\n",
              "    <tr>\n",
              "      <th>25%</th>\n",
              "      <td>3.0</td>\n",
              "      <td>1.0</td>\n",
              "      <td>2.0</td>\n",
              "    </tr>\n",
              "    <tr>\n",
              "      <th>50%</th>\n",
              "      <td>3.0</td>\n",
              "      <td>1.0</td>\n",
              "      <td>2.0</td>\n",
              "    </tr>\n",
              "    <tr>\n",
              "      <th>75%</th>\n",
              "      <td>3.0</td>\n",
              "      <td>1.0</td>\n",
              "      <td>2.0</td>\n",
              "    </tr>\n",
              "    <tr>\n",
              "      <th>max</th>\n",
              "      <td>3.0</td>\n",
              "      <td>1.0</td>\n",
              "      <td>2.0</td>\n",
              "    </tr>\n",
              "  </tbody>\n",
              "</table>\n",
              "</div>\n",
              "    <div class=\"colab-df-buttons\">\n",
              "\n",
              "  <div class=\"colab-df-container\">\n",
              "    <button class=\"colab-df-convert\" onclick=\"convertToInteractive('df-c8fbbda0-f398-4df4-ba7c-01005dc7671d')\"\n",
              "            title=\"Convert this dataframe to an interactive table.\"\n",
              "            style=\"display:none;\">\n",
              "\n",
              "  <svg xmlns=\"http://www.w3.org/2000/svg\" height=\"24px\" viewBox=\"0 -960 960 960\">\n",
              "    <path d=\"M120-120v-720h720v720H120Zm60-500h600v-160H180v160Zm220 220h160v-160H400v160Zm0 220h160v-160H400v160ZM180-400h160v-160H180v160Zm440 0h160v-160H620v160ZM180-180h160v-160H180v160Zm440 0h160v-160H620v160Z\"/>\n",
              "  </svg>\n",
              "    </button>\n",
              "\n",
              "  <style>\n",
              "    .colab-df-container {\n",
              "      display:flex;\n",
              "      gap: 12px;\n",
              "    }\n",
              "\n",
              "    .colab-df-convert {\n",
              "      background-color: #E8F0FE;\n",
              "      border: none;\n",
              "      border-radius: 50%;\n",
              "      cursor: pointer;\n",
              "      display: none;\n",
              "      fill: #1967D2;\n",
              "      height: 32px;\n",
              "      padding: 0 0 0 0;\n",
              "      width: 32px;\n",
              "    }\n",
              "\n",
              "    .colab-df-convert:hover {\n",
              "      background-color: #E2EBFA;\n",
              "      box-shadow: 0px 1px 2px rgba(60, 64, 67, 0.3), 0px 1px 3px 1px rgba(60, 64, 67, 0.15);\n",
              "      fill: #174EA6;\n",
              "    }\n",
              "\n",
              "    .colab-df-buttons div {\n",
              "      margin-bottom: 4px;\n",
              "    }\n",
              "\n",
              "    [theme=dark] .colab-df-convert {\n",
              "      background-color: #3B4455;\n",
              "      fill: #D2E3FC;\n",
              "    }\n",
              "\n",
              "    [theme=dark] .colab-df-convert:hover {\n",
              "      background-color: #434B5C;\n",
              "      box-shadow: 0px 1px 3px 1px rgba(0, 0, 0, 0.15);\n",
              "      filter: drop-shadow(0px 1px 2px rgba(0, 0, 0, 0.3));\n",
              "      fill: #FFFFFF;\n",
              "    }\n",
              "  </style>\n",
              "\n",
              "    <script>\n",
              "      const buttonEl =\n",
              "        document.querySelector('#df-c8fbbda0-f398-4df4-ba7c-01005dc7671d button.colab-df-convert');\n",
              "      buttonEl.style.display =\n",
              "        google.colab.kernel.accessAllowed ? 'block' : 'none';\n",
              "\n",
              "      async function convertToInteractive(key) {\n",
              "        const element = document.querySelector('#df-c8fbbda0-f398-4df4-ba7c-01005dc7671d');\n",
              "        const dataTable =\n",
              "          await google.colab.kernel.invokeFunction('convertToInteractive',\n",
              "                                                    [key], {});\n",
              "        if (!dataTable) return;\n",
              "\n",
              "        const docLinkHtml = 'Like what you see? Visit the ' +\n",
              "          '<a target=\"_blank\" href=https://colab.research.google.com/notebooks/data_table.ipynb>data table notebook</a>'\n",
              "          + ' to learn more about interactive tables.';\n",
              "        element.innerHTML = '';\n",
              "        dataTable['output_type'] = 'display_data';\n",
              "        await google.colab.output.renderOutput(dataTable, element);\n",
              "        const docLink = document.createElement('div');\n",
              "        docLink.innerHTML = docLinkHtml;\n",
              "        element.appendChild(docLink);\n",
              "      }\n",
              "    </script>\n",
              "  </div>\n",
              "\n",
              "\n",
              "<div id=\"df-44b4855b-a562-4cd6-947f-661929008121\">\n",
              "  <button class=\"colab-df-quickchart\" onclick=\"quickchart('df-44b4855b-a562-4cd6-947f-661929008121')\"\n",
              "            title=\"Suggest charts\"\n",
              "            style=\"display:none;\">\n",
              "\n",
              "<svg xmlns=\"http://www.w3.org/2000/svg\" height=\"24px\"viewBox=\"0 0 24 24\"\n",
              "     width=\"24px\">\n",
              "    <g>\n",
              "        <path d=\"M19 3H5c-1.1 0-2 .9-2 2v14c0 1.1.9 2 2 2h14c1.1 0 2-.9 2-2V5c0-1.1-.9-2-2-2zM9 17H7v-7h2v7zm4 0h-2V7h2v10zm4 0h-2v-4h2v4z\"/>\n",
              "    </g>\n",
              "</svg>\n",
              "  </button>\n",
              "\n",
              "<style>\n",
              "  .colab-df-quickchart {\n",
              "      --bg-color: #E8F0FE;\n",
              "      --fill-color: #1967D2;\n",
              "      --hover-bg-color: #E2EBFA;\n",
              "      --hover-fill-color: #174EA6;\n",
              "      --disabled-fill-color: #AAA;\n",
              "      --disabled-bg-color: #DDD;\n",
              "  }\n",
              "\n",
              "  [theme=dark] .colab-df-quickchart {\n",
              "      --bg-color: #3B4455;\n",
              "      --fill-color: #D2E3FC;\n",
              "      --hover-bg-color: #434B5C;\n",
              "      --hover-fill-color: #FFFFFF;\n",
              "      --disabled-bg-color: #3B4455;\n",
              "      --disabled-fill-color: #666;\n",
              "  }\n",
              "\n",
              "  .colab-df-quickchart {\n",
              "    background-color: var(--bg-color);\n",
              "    border: none;\n",
              "    border-radius: 50%;\n",
              "    cursor: pointer;\n",
              "    display: none;\n",
              "    fill: var(--fill-color);\n",
              "    height: 32px;\n",
              "    padding: 0;\n",
              "    width: 32px;\n",
              "  }\n",
              "\n",
              "  .colab-df-quickchart:hover {\n",
              "    background-color: var(--hover-bg-color);\n",
              "    box-shadow: 0 1px 2px rgba(60, 64, 67, 0.3), 0 1px 3px 1px rgba(60, 64, 67, 0.15);\n",
              "    fill: var(--button-hover-fill-color);\n",
              "  }\n",
              "\n",
              "  .colab-df-quickchart-complete:disabled,\n",
              "  .colab-df-quickchart-complete:disabled:hover {\n",
              "    background-color: var(--disabled-bg-color);\n",
              "    fill: var(--disabled-fill-color);\n",
              "    box-shadow: none;\n",
              "  }\n",
              "\n",
              "  .colab-df-spinner {\n",
              "    border: 2px solid var(--fill-color);\n",
              "    border-color: transparent;\n",
              "    border-bottom-color: var(--fill-color);\n",
              "    animation:\n",
              "      spin 1s steps(1) infinite;\n",
              "  }\n",
              "\n",
              "  @keyframes spin {\n",
              "    0% {\n",
              "      border-color: transparent;\n",
              "      border-bottom-color: var(--fill-color);\n",
              "      border-left-color: var(--fill-color);\n",
              "    }\n",
              "    20% {\n",
              "      border-color: transparent;\n",
              "      border-left-color: var(--fill-color);\n",
              "      border-top-color: var(--fill-color);\n",
              "    }\n",
              "    30% {\n",
              "      border-color: transparent;\n",
              "      border-left-color: var(--fill-color);\n",
              "      border-top-color: var(--fill-color);\n",
              "      border-right-color: var(--fill-color);\n",
              "    }\n",
              "    40% {\n",
              "      border-color: transparent;\n",
              "      border-right-color: var(--fill-color);\n",
              "      border-top-color: var(--fill-color);\n",
              "    }\n",
              "    60% {\n",
              "      border-color: transparent;\n",
              "      border-right-color: var(--fill-color);\n",
              "    }\n",
              "    80% {\n",
              "      border-color: transparent;\n",
              "      border-right-color: var(--fill-color);\n",
              "      border-bottom-color: var(--fill-color);\n",
              "    }\n",
              "    90% {\n",
              "      border-color: transparent;\n",
              "      border-bottom-color: var(--fill-color);\n",
              "    }\n",
              "  }\n",
              "</style>\n",
              "\n",
              "  <script>\n",
              "    async function quickchart(key) {\n",
              "      const quickchartButtonEl =\n",
              "        document.querySelector('#' + key + ' button');\n",
              "      quickchartButtonEl.disabled = true;  // To prevent multiple clicks.\n",
              "      quickchartButtonEl.classList.add('colab-df-spinner');\n",
              "      try {\n",
              "        const charts = await google.colab.kernel.invokeFunction(\n",
              "            'suggestCharts', [key], {});\n",
              "      } catch (error) {\n",
              "        console.error('Error during call to suggestCharts:', error);\n",
              "      }\n",
              "      quickchartButtonEl.classList.remove('colab-df-spinner');\n",
              "      quickchartButtonEl.classList.add('colab-df-quickchart-complete');\n",
              "    }\n",
              "    (() => {\n",
              "      let quickchartButtonEl =\n",
              "        document.querySelector('#df-44b4855b-a562-4cd6-947f-661929008121 button');\n",
              "      quickchartButtonEl.style.display =\n",
              "        google.colab.kernel.accessAllowed ? 'block' : 'none';\n",
              "    })();\n",
              "  </script>\n",
              "</div>\n",
              "\n",
              "    </div>\n",
              "  </div>\n"
            ],
            "application/vnd.google.colaboratory.intrinsic+json": {
              "type": "dataframe",
              "summary": "{\n  \"name\": \"ankara_df[ankara_df['Ilce'] == \\\"\\u015eerefliko\\u00e7hisar\\\"]\",\n  \"rows\": 8,\n  \"fields\": [\n    {\n      \"column\": \"Binan\\u0131n Kat Say\\u0131s\\u0131\",\n      \"properties\": {\n        \"dtype\": \"number\",\n        \"std\": 0.7559289460184545,\n        \"min\": 1.0,\n        \"max\": 3.0,\n        \"num_unique_values\": 2,\n        \"samples\": [\n          3.0,\n          1.0\n        ],\n        \"semantic_type\": \"\",\n        \"description\": \"\"\n      }\n    },\n    {\n      \"column\": \"Banyo Say\\u0131s\\u0131\",\n      \"properties\": {\n        \"dtype\": \"number\",\n        \"std\": 0.0,\n        \"min\": 1.0,\n        \"max\": 1.0,\n        \"num_unique_values\": 1,\n        \"samples\": [\n          1.0\n        ],\n        \"semantic_type\": \"\",\n        \"description\": \"\"\n      }\n    },\n    {\n      \"column\": \"TireSayisi\",\n      \"properties\": {\n        \"dtype\": \"number\",\n        \"std\": 0.37796447300922725,\n        \"min\": 1.0,\n        \"max\": 2.0,\n        \"num_unique_values\": 2,\n        \"samples\": [\n          2.0\n        ],\n        \"semantic_type\": \"\",\n        \"description\": \"\"\n      }\n    }\n  ]\n}"
            }
          },
          "metadata": {},
          "execution_count": 20
        }
      ]
    },
    {
      "cell_type": "markdown",
      "source": [
        "TL bilgisini sil\n",
        "Ne kadar Sözel bilgi varsa(ordinal veya nominal) bunları pipline\n",
        "\n",
        "  -- Simple inputer nicel(sayısal) verileri normalize ediyor.\n",
        "  -- Nominal veri tipini OneHotEncoder ile normalleştir.\n",
        "  -- Çokiyi - iyi - normal şeklindeki veri tipleri(ordinal) için:\n",
        "    --- OrdinalEncoder ile normalleştir.\n",
        "\n",
        "  Normalleştirme sonrası - sütun dönüştürme(column transformers) kullanılmalı\n",
        "  --- ColumnTransformer metodun adı\n",
        "  "
      ],
      "metadata": {
        "id": "_OGtWghSZ6o0"
      }
    },
    {
      "cell_type": "code",
      "source": [
        "print(ankara_df.head(1).T)\n",
        "print(ankara_df.info())\n",
        "\n",
        "# Fiyat, Oda Sayısı, Bulunduğu Kat, Brüt Metrekare, Binanın Yaşı,\n",
        "# Binanın Kat Sayısı**, Banyo Sayısı**, Balkon Sayısı, WC Sayısı\n",
        "# sütunları numeric verilere çevrilecek.\n",
        "\n",
        "print(ankara_df[\"Fiyat\"].head(50))"
      ],
      "metadata": {
        "colab": {
          "base_uri": "https://localhost:8080/"
        },
        "id": "0EDG5mpOX5sF",
        "outputId": "5c77cc52-9086-4aa7-a863-7d960abef97e"
      },
      "execution_count": null,
      "outputs": [
        {
          "output_type": "stream",
          "name": "stdout",
          "text": [
            "                                                   45973\n",
            "Fiyat                                          2300000TL\n",
            "Adres               Ankara - Akyurt - Yıldırım Mahallesi\n",
            "Oda Sayısı                                           3+1\n",
            "Bulunduğu Kat                                      3.Kat\n",
            "Isıtma Tipi                               Kombi Doğalgaz\n",
            "Krediye Uygunluk                     Krediye Uygun Değil\n",
            "Yapı Durumu                                Belirtilmemiş\n",
            "Tapu Durumu                                Belirtilmemiş\n",
            "Eşya Durumu                                          Boş\n",
            "Site İçerisinde                                    Hayır\n",
            "Türü                                               Konut\n",
            "Tipi                                               Daire\n",
            "Brüt Metrekare                                    130 M2\n",
            "Binanın Yaşı                                    0 (Yeni)\n",
            "Binanın Kat Sayısı                                     3\n",
            "Kullanım Durumu                                      Boş\n",
            "Yatırıma Uygunluk                             Bilinmiyor\n",
            "Banyo Sayısı                                           2\n",
            "Balkon Sayısı                              Belirtilmemiş\n",
            "WC Sayısı                                  Belirtilmemiş\n",
            "TireSayisi                                             2\n",
            "Il                                                Ankara\n",
            "Ilce                                              Akyurt\n",
            "Mahalle                               Yıldırım Mahallesi\n",
            "<class 'pandas.core.frame.DataFrame'>\n",
            "Index: 11858 entries, 45973 to 57830\n",
            "Data columns (total 24 columns):\n",
            " #   Column              Non-Null Count  Dtype \n",
            "---  ------              --------------  ----- \n",
            " 0   Fiyat               11858 non-null  object\n",
            " 1   Adres               11858 non-null  object\n",
            " 2   Oda Sayısı          11858 non-null  object\n",
            " 3   Bulunduğu Kat       11858 non-null  object\n",
            " 4   Isıtma Tipi         11858 non-null  object\n",
            " 5   Krediye Uygunluk    11858 non-null  object\n",
            " 6   Yapı Durumu         11858 non-null  object\n",
            " 7   Tapu Durumu         11858 non-null  object\n",
            " 8   Eşya Durumu         11858 non-null  object\n",
            " 9   Site İçerisinde     11858 non-null  object\n",
            " 10  Türü                11858 non-null  object\n",
            " 11  Tipi                11858 non-null  object\n",
            " 12  Brüt Metrekare      11858 non-null  object\n",
            " 13  Binanın Yaşı        11858 non-null  object\n",
            " 14  Binanın Kat Sayısı  11858 non-null  int64 \n",
            " 15  Kullanım Durumu     11858 non-null  object\n",
            " 16  Yatırıma Uygunluk   11858 non-null  object\n",
            " 17  Banyo Sayısı        11858 non-null  int64 \n",
            " 18  Balkon Sayısı       11858 non-null  object\n",
            " 19  WC Sayısı           11858 non-null  object\n",
            " 20  TireSayisi          11858 non-null  int64 \n",
            " 21  Il                  11858 non-null  object\n",
            " 22  Ilce                11858 non-null  object\n",
            " 23  Mahalle             11858 non-null  object\n",
            "dtypes: int64(3), object(21)\n",
            "memory usage: 2.3+ MB\n",
            "None\n",
            "45973                     2300000TL\n",
            "45974                     7000000TL\n",
            "45975                     2650000TL\n",
            "45976                     2400000TL\n",
            "45977                     2470000TL\n",
            "45978                     1399999TL\n",
            "45979                     1800000TL\n",
            "45980                     1950000TL\n",
            "45981                     7000000TL\n",
            "45982    6150000TLarrow_downward%13\n",
            "45983                     6250000TL\n",
            "45984                     1700000TL\n",
            "45985                     1367000TL\n",
            "45986                     3750000TL\n",
            "45987                     3500000TL\n",
            "45988     1362000TLarrow_downward%3\n",
            "45989                      950000TL\n",
            "45990     3700000TLarrow_downward%3\n",
            "45991                     3250000TL\n",
            "45992                     1450000TL\n",
            "45993                     1100000TL\n",
            "45994                     1335000TL\n",
            "45995                     2150000TL\n",
            "45996                      450000TL\n",
            "45997                     1550000TL\n",
            "45998                     1775000TL\n",
            "45999                     2500000TL\n",
            "46000                     1550000TL\n",
            "46001                     1250000TL\n",
            "46002                     1500000TL\n",
            "46003                     2000000TL\n",
            "46004                     4300000TL\n",
            "46005                     2100000TL\n",
            "46006                     1400000TL\n",
            "46007                     1800000TL\n",
            "46008      740000TLarrow_downward%8\n",
            "46009                     2100000TL\n",
            "46010                     2100000TL\n",
            "46011                      635000TL\n",
            "46012    3750000TLarrow_downward%90\n",
            "46013                     2650000TL\n",
            "46014                     1650000TL\n",
            "46015                      950000TL\n",
            "46016                     5900000TL\n",
            "46017                     4850000TL\n",
            "46018                     2975000TL\n",
            "46019                     2050000TL\n",
            "46020                     1400000TL\n",
            "46021                     1750000TL\n",
            "46022                     2400000TL\n",
            "Name: Fiyat, dtype: object\n"
          ]
        }
      ]
    },
    {
      "cell_type": "markdown",
      "source": [
        "# Veri Düzenleme"
      ],
      "metadata": {
        "id": "Bb0-13U6mpPd"
      }
    },
    {
      "cell_type": "code",
      "source": [
        "ankara_df[\"Fiyat\"] = ankara_df[\"Fiyat\"].str.replace(\"TL\", \"\")\n",
        "\n",
        "ankara_df[\"Fiyat\"] = ankara_df[\"Fiyat\"].apply(lambda x:x.rsplit(\"arrow\", 1)[0].strip())\n",
        "\n",
        "ankara_df[\"Brüt Metrekare\"] = ankara_df[\"Brüt Metrekare\"].str.replace(\" M2\", \"\")\n",
        "\n",
        "print(ankara_df[\"Fiyat\"].head(5))\n",
        "\n",
        "\n"
      ],
      "metadata": {
        "colab": {
          "base_uri": "https://localhost:8080/"
        },
        "id": "q40qS8WiZ9ho",
        "outputId": "e1e9c268-52d8-4bdb-91ec-706009d09b8c"
      },
      "execution_count": null,
      "outputs": [
        {
          "output_type": "stream",
          "name": "stdout",
          "text": [
            "45973    2300000\n",
            "45974    7000000\n",
            "45975    2650000\n",
            "45976    2400000\n",
            "45977    2470000\n",
            "Name: Fiyat, dtype: object\n"
          ]
        }
      ]
    },
    {
      "cell_type": "code",
      "source": [
        "ankara_df[\"Fiyat\"] = pd.to_numeric(ankara_df[\"Fiyat\"])\n",
        "ankara_df[\"Brüt Metrekare\"] = pd.to_numeric(ankara_df[\"Brüt Metrekare\"])\n",
        "ankara_df[\"Brüt Metrekare\"] = ankara_df[\"Brüt Metrekare\"].astype(int)"
      ],
      "metadata": {
        "id": "nyrZO5qz1_8F"
      },
      "execution_count": null,
      "outputs": []
    },
    {
      "cell_type": "code",
      "source": [
        "print(ankara_df.corr(numeric_only=True))"
      ],
      "metadata": {
        "colab": {
          "base_uri": "https://localhost:8080/"
        },
        "id": "DC_jzcxak4pJ",
        "outputId": "33ce50aa-47c2-4511-b9c3-b8ce20ec2f65"
      },
      "execution_count": null,
      "outputs": [
        {
          "output_type": "stream",
          "name": "stdout",
          "text": [
            "                       Fiyat  Brüt Metrekare  Binanın Kat Sayısı  \\\n",
            "Fiyat               1.000000        0.519844            0.178197   \n",
            "Brüt Metrekare      0.519844        1.000000            0.089767   \n",
            "Binanın Kat Sayısı  0.178197        0.089767            1.000000   \n",
            "Banyo Sayısı        0.546542        0.622355            0.244908   \n",
            "TireSayisi               NaN             NaN                 NaN   \n",
            "\n",
            "                    Banyo Sayısı  TireSayisi  \n",
            "Fiyat                   0.546542         NaN  \n",
            "Brüt Metrekare          0.622355         NaN  \n",
            "Binanın Kat Sayısı      0.244908         NaN  \n",
            "Banyo Sayısı            1.000000         NaN  \n",
            "TireSayisi                   NaN         NaN  \n"
          ]
        }
      ]
    },
    {
      "cell_type": "code",
      "source": [
        "ankara_df.info()"
      ],
      "metadata": {
        "colab": {
          "base_uri": "https://localhost:8080/"
        },
        "id": "j1LA8haq_JHz",
        "outputId": "a5b155ae-3266-44ef-886f-85e7525f1382"
      },
      "execution_count": null,
      "outputs": [
        {
          "output_type": "stream",
          "name": "stdout",
          "text": [
            "<class 'pandas.core.frame.DataFrame'>\n",
            "Index: 11858 entries, 45973 to 57830\n",
            "Data columns (total 24 columns):\n",
            " #   Column              Non-Null Count  Dtype \n",
            "---  ------              --------------  ----- \n",
            " 0   Fiyat               11858 non-null  int64 \n",
            " 1   Adres               11858 non-null  object\n",
            " 2   Oda Sayısı          11858 non-null  object\n",
            " 3   Bulunduğu Kat       11858 non-null  object\n",
            " 4   Isıtma Tipi         11858 non-null  object\n",
            " 5   Krediye Uygunluk    11858 non-null  object\n",
            " 6   Yapı Durumu         11858 non-null  object\n",
            " 7   Tapu Durumu         11858 non-null  object\n",
            " 8   Eşya Durumu         11858 non-null  object\n",
            " 9   Site İçerisinde     11858 non-null  object\n",
            " 10  Türü                11858 non-null  object\n",
            " 11  Tipi                11858 non-null  object\n",
            " 12  Brüt Metrekare      11858 non-null  int64 \n",
            " 13  Binanın Yaşı        11858 non-null  object\n",
            " 14  Binanın Kat Sayısı  11858 non-null  int64 \n",
            " 15  Kullanım Durumu     11858 non-null  object\n",
            " 16  Yatırıma Uygunluk   11858 non-null  object\n",
            " 17  Banyo Sayısı        11858 non-null  int64 \n",
            " 18  Balkon Sayısı       11858 non-null  object\n",
            " 19  WC Sayısı           11858 non-null  object\n",
            " 20  TireSayisi          11858 non-null  int64 \n",
            " 21  Il                  11858 non-null  object\n",
            " 22  Ilce                11858 non-null  object\n",
            " 23  Mahalle             11858 non-null  object\n",
            "dtypes: int64(5), object(19)\n",
            "memory usage: 2.3+ MB\n"
          ]
        }
      ]
    },
    {
      "cell_type": "code",
      "source": [
        "ankara_df.groupby(\"Isıtma Tipi\").agg({\"Fiyat\":\"mean\"}).sort_values(by=\"Fiyat\",ascending=False)"
      ],
      "metadata": {
        "colab": {
          "base_uri": "https://localhost:8080/",
          "height": 582
        },
        "id": "VAkoWEYG0PO2",
        "outputId": "af55a571-cbba-4bc5-fb1c-5e4f6a7b181b"
      },
      "execution_count": null,
      "outputs": [
        {
          "output_type": "execute_result",
          "data": {
            "text/plain": [
              "                            Fiyat\n",
              "Isıtma Tipi                      \n",
              "Yerden Isıtma        7.602982e+06\n",
              "Klimalı              5.600365e+06\n",
              "Kat Kaloriferi       4.845891e+06\n",
              "Merkezi (Pay Ölçer)  4.587735e+06\n",
              "Doğalgaz Sobalı      4.540482e+06\n",
              "Merkezi Doğalgaz     3.510865e+06\n",
              "Güneş Enerjisi       3.367500e+06\n",
              "Isıtma Yok           3.205946e+06\n",
              "Sobalı               2.934096e+06\n",
              "Kombi Doğalgaz       2.708939e+06\n",
              "Şömine               2.634444e+06\n",
              "Kombi Fueloil        2.282429e+06\n",
              "Merkezi Fueloil      2.175000e+06\n",
              "Merkezi Kömür        1.373000e+06\n",
              "Elektrikli Radyatör  1.326333e+06\n",
              "Jeotermal            3.492857e+05"
            ],
            "text/html": [
              "\n",
              "  <div id=\"df-3ad82191-2bdf-4751-be41-38907067d1c3\" class=\"colab-df-container\">\n",
              "    <div>\n",
              "<style scoped>\n",
              "    .dataframe tbody tr th:only-of-type {\n",
              "        vertical-align: middle;\n",
              "    }\n",
              "\n",
              "    .dataframe tbody tr th {\n",
              "        vertical-align: top;\n",
              "    }\n",
              "\n",
              "    .dataframe thead th {\n",
              "        text-align: right;\n",
              "    }\n",
              "</style>\n",
              "<table border=\"1\" class=\"dataframe\">\n",
              "  <thead>\n",
              "    <tr style=\"text-align: right;\">\n",
              "      <th></th>\n",
              "      <th>Fiyat</th>\n",
              "    </tr>\n",
              "    <tr>\n",
              "      <th>Isıtma Tipi</th>\n",
              "      <th></th>\n",
              "    </tr>\n",
              "  </thead>\n",
              "  <tbody>\n",
              "    <tr>\n",
              "      <th>Yerden Isıtma</th>\n",
              "      <td>7.602982e+06</td>\n",
              "    </tr>\n",
              "    <tr>\n",
              "      <th>Klimalı</th>\n",
              "      <td>5.600365e+06</td>\n",
              "    </tr>\n",
              "    <tr>\n",
              "      <th>Kat Kaloriferi</th>\n",
              "      <td>4.845891e+06</td>\n",
              "    </tr>\n",
              "    <tr>\n",
              "      <th>Merkezi (Pay Ölçer)</th>\n",
              "      <td>4.587735e+06</td>\n",
              "    </tr>\n",
              "    <tr>\n",
              "      <th>Doğalgaz Sobalı</th>\n",
              "      <td>4.540482e+06</td>\n",
              "    </tr>\n",
              "    <tr>\n",
              "      <th>Merkezi Doğalgaz</th>\n",
              "      <td>3.510865e+06</td>\n",
              "    </tr>\n",
              "    <tr>\n",
              "      <th>Güneş Enerjisi</th>\n",
              "      <td>3.367500e+06</td>\n",
              "    </tr>\n",
              "    <tr>\n",
              "      <th>Isıtma Yok</th>\n",
              "      <td>3.205946e+06</td>\n",
              "    </tr>\n",
              "    <tr>\n",
              "      <th>Sobalı</th>\n",
              "      <td>2.934096e+06</td>\n",
              "    </tr>\n",
              "    <tr>\n",
              "      <th>Kombi Doğalgaz</th>\n",
              "      <td>2.708939e+06</td>\n",
              "    </tr>\n",
              "    <tr>\n",
              "      <th>Şömine</th>\n",
              "      <td>2.634444e+06</td>\n",
              "    </tr>\n",
              "    <tr>\n",
              "      <th>Kombi Fueloil</th>\n",
              "      <td>2.282429e+06</td>\n",
              "    </tr>\n",
              "    <tr>\n",
              "      <th>Merkezi Fueloil</th>\n",
              "      <td>2.175000e+06</td>\n",
              "    </tr>\n",
              "    <tr>\n",
              "      <th>Merkezi Kömür</th>\n",
              "      <td>1.373000e+06</td>\n",
              "    </tr>\n",
              "    <tr>\n",
              "      <th>Elektrikli Radyatör</th>\n",
              "      <td>1.326333e+06</td>\n",
              "    </tr>\n",
              "    <tr>\n",
              "      <th>Jeotermal</th>\n",
              "      <td>3.492857e+05</td>\n",
              "    </tr>\n",
              "  </tbody>\n",
              "</table>\n",
              "</div>\n",
              "    <div class=\"colab-df-buttons\">\n",
              "\n",
              "  <div class=\"colab-df-container\">\n",
              "    <button class=\"colab-df-convert\" onclick=\"convertToInteractive('df-3ad82191-2bdf-4751-be41-38907067d1c3')\"\n",
              "            title=\"Convert this dataframe to an interactive table.\"\n",
              "            style=\"display:none;\">\n",
              "\n",
              "  <svg xmlns=\"http://www.w3.org/2000/svg\" height=\"24px\" viewBox=\"0 -960 960 960\">\n",
              "    <path d=\"M120-120v-720h720v720H120Zm60-500h600v-160H180v160Zm220 220h160v-160H400v160Zm0 220h160v-160H400v160ZM180-400h160v-160H180v160Zm440 0h160v-160H620v160ZM180-180h160v-160H180v160Zm440 0h160v-160H620v160Z\"/>\n",
              "  </svg>\n",
              "    </button>\n",
              "\n",
              "  <style>\n",
              "    .colab-df-container {\n",
              "      display:flex;\n",
              "      gap: 12px;\n",
              "    }\n",
              "\n",
              "    .colab-df-convert {\n",
              "      background-color: #E8F0FE;\n",
              "      border: none;\n",
              "      border-radius: 50%;\n",
              "      cursor: pointer;\n",
              "      display: none;\n",
              "      fill: #1967D2;\n",
              "      height: 32px;\n",
              "      padding: 0 0 0 0;\n",
              "      width: 32px;\n",
              "    }\n",
              "\n",
              "    .colab-df-convert:hover {\n",
              "      background-color: #E2EBFA;\n",
              "      box-shadow: 0px 1px 2px rgba(60, 64, 67, 0.3), 0px 1px 3px 1px rgba(60, 64, 67, 0.15);\n",
              "      fill: #174EA6;\n",
              "    }\n",
              "\n",
              "    .colab-df-buttons div {\n",
              "      margin-bottom: 4px;\n",
              "    }\n",
              "\n",
              "    [theme=dark] .colab-df-convert {\n",
              "      background-color: #3B4455;\n",
              "      fill: #D2E3FC;\n",
              "    }\n",
              "\n",
              "    [theme=dark] .colab-df-convert:hover {\n",
              "      background-color: #434B5C;\n",
              "      box-shadow: 0px 1px 3px 1px rgba(0, 0, 0, 0.15);\n",
              "      filter: drop-shadow(0px 1px 2px rgba(0, 0, 0, 0.3));\n",
              "      fill: #FFFFFF;\n",
              "    }\n",
              "  </style>\n",
              "\n",
              "    <script>\n",
              "      const buttonEl =\n",
              "        document.querySelector('#df-3ad82191-2bdf-4751-be41-38907067d1c3 button.colab-df-convert');\n",
              "      buttonEl.style.display =\n",
              "        google.colab.kernel.accessAllowed ? 'block' : 'none';\n",
              "\n",
              "      async function convertToInteractive(key) {\n",
              "        const element = document.querySelector('#df-3ad82191-2bdf-4751-be41-38907067d1c3');\n",
              "        const dataTable =\n",
              "          await google.colab.kernel.invokeFunction('convertToInteractive',\n",
              "                                                    [key], {});\n",
              "        if (!dataTable) return;\n",
              "\n",
              "        const docLinkHtml = 'Like what you see? Visit the ' +\n",
              "          '<a target=\"_blank\" href=https://colab.research.google.com/notebooks/data_table.ipynb>data table notebook</a>'\n",
              "          + ' to learn more about interactive tables.';\n",
              "        element.innerHTML = '';\n",
              "        dataTable['output_type'] = 'display_data';\n",
              "        await google.colab.output.renderOutput(dataTable, element);\n",
              "        const docLink = document.createElement('div');\n",
              "        docLink.innerHTML = docLinkHtml;\n",
              "        element.appendChild(docLink);\n",
              "      }\n",
              "    </script>\n",
              "  </div>\n",
              "\n",
              "\n",
              "<div id=\"df-c1d948ee-3bd8-4b20-bd9d-07fa5fa40651\">\n",
              "  <button class=\"colab-df-quickchart\" onclick=\"quickchart('df-c1d948ee-3bd8-4b20-bd9d-07fa5fa40651')\"\n",
              "            title=\"Suggest charts\"\n",
              "            style=\"display:none;\">\n",
              "\n",
              "<svg xmlns=\"http://www.w3.org/2000/svg\" height=\"24px\"viewBox=\"0 0 24 24\"\n",
              "     width=\"24px\">\n",
              "    <g>\n",
              "        <path d=\"M19 3H5c-1.1 0-2 .9-2 2v14c0 1.1.9 2 2 2h14c1.1 0 2-.9 2-2V5c0-1.1-.9-2-2-2zM9 17H7v-7h2v7zm4 0h-2V7h2v10zm4 0h-2v-4h2v4z\"/>\n",
              "    </g>\n",
              "</svg>\n",
              "  </button>\n",
              "\n",
              "<style>\n",
              "  .colab-df-quickchart {\n",
              "      --bg-color: #E8F0FE;\n",
              "      --fill-color: #1967D2;\n",
              "      --hover-bg-color: #E2EBFA;\n",
              "      --hover-fill-color: #174EA6;\n",
              "      --disabled-fill-color: #AAA;\n",
              "      --disabled-bg-color: #DDD;\n",
              "  }\n",
              "\n",
              "  [theme=dark] .colab-df-quickchart {\n",
              "      --bg-color: #3B4455;\n",
              "      --fill-color: #D2E3FC;\n",
              "      --hover-bg-color: #434B5C;\n",
              "      --hover-fill-color: #FFFFFF;\n",
              "      --disabled-bg-color: #3B4455;\n",
              "      --disabled-fill-color: #666;\n",
              "  }\n",
              "\n",
              "  .colab-df-quickchart {\n",
              "    background-color: var(--bg-color);\n",
              "    border: none;\n",
              "    border-radius: 50%;\n",
              "    cursor: pointer;\n",
              "    display: none;\n",
              "    fill: var(--fill-color);\n",
              "    height: 32px;\n",
              "    padding: 0;\n",
              "    width: 32px;\n",
              "  }\n",
              "\n",
              "  .colab-df-quickchart:hover {\n",
              "    background-color: var(--hover-bg-color);\n",
              "    box-shadow: 0 1px 2px rgba(60, 64, 67, 0.3), 0 1px 3px 1px rgba(60, 64, 67, 0.15);\n",
              "    fill: var(--button-hover-fill-color);\n",
              "  }\n",
              "\n",
              "  .colab-df-quickchart-complete:disabled,\n",
              "  .colab-df-quickchart-complete:disabled:hover {\n",
              "    background-color: var(--disabled-bg-color);\n",
              "    fill: var(--disabled-fill-color);\n",
              "    box-shadow: none;\n",
              "  }\n",
              "\n",
              "  .colab-df-spinner {\n",
              "    border: 2px solid var(--fill-color);\n",
              "    border-color: transparent;\n",
              "    border-bottom-color: var(--fill-color);\n",
              "    animation:\n",
              "      spin 1s steps(1) infinite;\n",
              "  }\n",
              "\n",
              "  @keyframes spin {\n",
              "    0% {\n",
              "      border-color: transparent;\n",
              "      border-bottom-color: var(--fill-color);\n",
              "      border-left-color: var(--fill-color);\n",
              "    }\n",
              "    20% {\n",
              "      border-color: transparent;\n",
              "      border-left-color: var(--fill-color);\n",
              "      border-top-color: var(--fill-color);\n",
              "    }\n",
              "    30% {\n",
              "      border-color: transparent;\n",
              "      border-left-color: var(--fill-color);\n",
              "      border-top-color: var(--fill-color);\n",
              "      border-right-color: var(--fill-color);\n",
              "    }\n",
              "    40% {\n",
              "      border-color: transparent;\n",
              "      border-right-color: var(--fill-color);\n",
              "      border-top-color: var(--fill-color);\n",
              "    }\n",
              "    60% {\n",
              "      border-color: transparent;\n",
              "      border-right-color: var(--fill-color);\n",
              "    }\n",
              "    80% {\n",
              "      border-color: transparent;\n",
              "      border-right-color: var(--fill-color);\n",
              "      border-bottom-color: var(--fill-color);\n",
              "    }\n",
              "    90% {\n",
              "      border-color: transparent;\n",
              "      border-bottom-color: var(--fill-color);\n",
              "    }\n",
              "  }\n",
              "</style>\n",
              "\n",
              "  <script>\n",
              "    async function quickchart(key) {\n",
              "      const quickchartButtonEl =\n",
              "        document.querySelector('#' + key + ' button');\n",
              "      quickchartButtonEl.disabled = true;  // To prevent multiple clicks.\n",
              "      quickchartButtonEl.classList.add('colab-df-spinner');\n",
              "      try {\n",
              "        const charts = await google.colab.kernel.invokeFunction(\n",
              "            'suggestCharts', [key], {});\n",
              "      } catch (error) {\n",
              "        console.error('Error during call to suggestCharts:', error);\n",
              "      }\n",
              "      quickchartButtonEl.classList.remove('colab-df-spinner');\n",
              "      quickchartButtonEl.classList.add('colab-df-quickchart-complete');\n",
              "    }\n",
              "    (() => {\n",
              "      let quickchartButtonEl =\n",
              "        document.querySelector('#df-c1d948ee-3bd8-4b20-bd9d-07fa5fa40651 button');\n",
              "      quickchartButtonEl.style.display =\n",
              "        google.colab.kernel.accessAllowed ? 'block' : 'none';\n",
              "    })();\n",
              "  </script>\n",
              "</div>\n",
              "\n",
              "    </div>\n",
              "  </div>\n"
            ],
            "application/vnd.google.colaboratory.intrinsic+json": {
              "type": "dataframe",
              "summary": "{\n  \"name\": \"ankara_df\",\n  \"rows\": 16,\n  \"fields\": [\n    {\n      \"column\": \"Is\\u0131tma Tipi\",\n      \"properties\": {\n        \"dtype\": \"string\",\n        \"num_unique_values\": 16,\n        \"samples\": [\n          \"Yerden Is\\u0131tma\",\n          \"Klimal\\u0131\",\n          \"Merkezi Do\\u011falgaz\"\n        ],\n        \"semantic_type\": \"\",\n        \"description\": \"\"\n      }\n    },\n    {\n      \"column\": \"Fiyat\",\n      \"properties\": {\n        \"dtype\": \"number\",\n        \"std\": 1807225.4665148994,\n        \"min\": 349285.71428571426,\n        \"max\": 7602982.135714286,\n        \"num_unique_values\": 16,\n        \"samples\": [\n          7602982.135714286,\n          5600364.534883721,\n          3510864.8620199147\n        ],\n        \"semantic_type\": \"\",\n        \"description\": \"\"\n      }\n    }\n  ]\n}"
            }
          },
          "metadata": {},
          "execution_count": 26
        }
      ]
    },
    {
      "cell_type": "markdown",
      "source": [
        "Gerekli, Çoğu bilgi içermeyen sütunların kaldırılma işlemi gerçekleştirilmiştir."
      ],
      "metadata": {
        "id": "5qvx4djviOSg"
      }
    },
    {
      "cell_type": "code",
      "source": [
        "ankara_df.drop(['Adres','Türü','Balkon Sayısı','WC Sayısı','Krediye Uygunluk','Yapı Durumu','Eşya Durumu','Site İçerisinde','Kullanım Durumu','Yatırıma Uygunluk','TireSayisi','Il','Mahalle','Tapu Durumu'] , axis= 1, inplace=True)"
      ],
      "metadata": {
        "id": "K5n4KXv9c0Me"
      },
      "execution_count": null,
      "outputs": []
    },
    {
      "cell_type": "code",
      "source": [
        "# Sütunlardaki unique değerler drop edilmesi yada düzeltilmesi için değerlendirilmiştir.\n",
        "for col in ankara_df.columns:\n",
        "  print(\"------------\")\n",
        "  print(ankara_df[col].value_counts())\n",
        "  print(\"------------\")"
      ],
      "metadata": {
        "colab": {
          "base_uri": "https://localhost:8080/"
        },
        "id": "HxQrpc385yku",
        "outputId": "0e679a17-a5fd-4fc4-df10-af58dc66a163"
      },
      "execution_count": null,
      "outputs": [
        {
          "output_type": "stream",
          "name": "stdout",
          "text": [
            "------------\n",
            "Fiyat\n",
            "2500000    166\n",
            "1750000    161\n",
            "2100000    158\n",
            "2250000    155\n",
            "1650000    145\n",
            "          ... \n",
            "8375000      1\n",
            "1474000      1\n",
            "1048000      1\n",
            "22222        1\n",
            "3539000      1\n",
            "Name: count, Length: 1387, dtype: int64\n",
            "------------\n",
            "------------\n",
            "Oda Sayısı\n",
            "3+1       7074\n",
            "4+1       1677\n",
            "2+1       1658\n",
            "1+1        408\n",
            "5+1        336\n",
            "6+1        125\n",
            "5+2         92\n",
            "4+2         82\n",
            "6+2         73\n",
            "3.5+1       64\n",
            "4.5+1       59\n",
            "7+1         44\n",
            "2.5+1       24\n",
            "3+2         23\n",
            "7+2         23\n",
            "Stüdyo      18\n",
            "1 Oda       17\n",
            "9+ Oda      13\n",
            "1.5+1       10\n",
            "3+0          7\n",
            "8+2          7\n",
            "8+3          4\n",
            "2+2          4\n",
            "8+1          4\n",
            "4+0          3\n",
            "5+3          3\n",
            "5+0          1\n",
            "6+3          1\n",
            "4+3          1\n",
            "2+0          1\n",
            "5+4          1\n",
            "7+3          1\n",
            "Name: count, dtype: int64\n",
            "------------\n",
            "------------\n",
            "Bulunduğu Kat\n",
            "3.Kat                1904\n",
            "1.Kat                1891\n",
            "2.Kat                1861\n",
            "Yüksek Giriş         1161\n",
            "4.Kat                 874\n",
            "Belirtilmemiş         547\n",
            "Düz Giriş (Zemin)     507\n",
            "Kot 1 (-1).Kat        490\n",
            "5.Kat                 371\n",
            "Bahçe Katı            300\n",
            "6.Kat                 239\n",
            "7.Kat                 230\n",
            "8.Kat                 185\n",
            "9.Kat                 162\n",
            "Kot 2 (-2).Kat        161\n",
            "11.Kat                119\n",
            "12.Kat                115\n",
            "10.Kat                107\n",
            "Çatı Dubleks          105\n",
            "Çatı Katı              88\n",
            "13.Kat                 75\n",
            "14.Kat                 66\n",
            "15.Kat                 43\n",
            "Kot 3 (-3).Kat         40\n",
            "16.Kat                 30\n",
            "Villa Tipi             28\n",
            "Bahçe Dublex           18\n",
            "Müstakil               18\n",
            "17.Kat                 16\n",
            "18.Kat                 11\n",
            "21.Kat                 10\n",
            "20.Kat                 10\n",
            "19.Kat                 10\n",
            "Bodrum Kat              9\n",
            "25.Kat                  9\n",
            "22.Kat                  9\n",
            "26.Kat                  8\n",
            "27.Kat                  6\n",
            "30.Kat                  6\n",
            "24.Kat                  6\n",
            "28.Kat                  5\n",
            "33.Kat                  4\n",
            "23.Kat                  3\n",
            "29.Kat                  1\n",
            "Name: count, dtype: int64\n",
            "------------\n",
            "------------\n",
            "Isıtma Tipi\n",
            "Kombi Doğalgaz         9383\n",
            "Merkezi (Pay Ölçer)    1186\n",
            "Merkezi Doğalgaz        703\n",
            "Yerden Isıtma           280\n",
            "Sobalı                  115\n",
            "Kat Kaloriferi           55\n",
            "Klimalı                  43\n",
            "Isıtma Yok               28\n",
            "Doğalgaz Sobalı          28\n",
            "Şömine                    9\n",
            "Kombi Fueloil             7\n",
            "Jeotermal                 7\n",
            "Merkezi Kömür             5\n",
            "Güneş Enerjisi            4\n",
            "Elektrikli Radyatör       3\n",
            "Merkezi Fueloil           2\n",
            "Name: count, dtype: int64\n",
            "------------\n",
            "------------\n",
            "Tipi\n",
            "Daire          11254\n",
            "Villa            417\n",
            "Müstakil Ev      102\n",
            "Residence         28\n",
            "Devremülk         14\n",
            "Çiftlik Evi       13\n",
            "Kooperatif        13\n",
            "Bina               5\n",
            "Köşk               4\n",
            "Dağ Evi            3\n",
            "Prefabrik          2\n",
            "Yazlık             2\n",
            "Köy Evi            1\n",
            "Name: count, dtype: int64\n",
            "------------\n",
            "------------\n",
            "Brüt Metrekare\n",
            "130    1239\n",
            "120    1025\n",
            "125    1012\n",
            "135     852\n",
            "140     622\n",
            "       ... \n",
            "425       1\n",
            "598       1\n",
            "89        1\n",
            "58        1\n",
            "344       1\n",
            "Name: count, Length: 294, dtype: int64\n",
            "------------\n",
            "------------\n",
            "Binanın Yaşı\n",
            "10-May         2693\n",
            "15-Nov         2172\n",
            "0 (Yeni)       2146\n",
            "21 Ve Üzeri    1972\n",
            "16-20          1338\n",
            "4               709\n",
            "3               330\n",
            "1               251\n",
            "2               247\n",
            "Name: count, dtype: int64\n",
            "------------\n",
            "------------\n",
            "Binanın Kat Sayısı\n",
            "3     4400\n",
            "4     2626\n",
            "5      955\n",
            "2      486\n",
            "10     386\n",
            "12     345\n",
            "6      341\n",
            "8      297\n",
            "7      280\n",
            "15     260\n",
            "14     219\n",
            "13     215\n",
            "9      199\n",
            "1      148\n",
            "11     143\n",
            "16     128\n",
            "17      86\n",
            "30      77\n",
            "18      37\n",
            "20      34\n",
            "19      25\n",
            "21      24\n",
            "28      20\n",
            "27      19\n",
            "25      16\n",
            "22      15\n",
            "26      14\n",
            "23      13\n",
            "33      12\n",
            "24      11\n",
            "29       9\n",
            "35       5\n",
            "39       3\n",
            "34       3\n",
            "32       3\n",
            "38       2\n",
            "43       1\n",
            "31       1\n",
            "Name: count, dtype: int64\n",
            "------------\n",
            "------------\n",
            "Banyo Sayısı\n",
            "1    7179\n",
            "2    4134\n",
            "3     356\n",
            "4     134\n",
            "5      55\n",
            "Name: count, dtype: int64\n",
            "------------\n",
            "------------\n",
            "Ilce\n",
            "Keçiören           1496\n",
            "Sincan             1495\n",
            "Mamak              1492\n",
            "Etimesgut          1482\n",
            "Çankaya            1475\n",
            "Pursaklar          1152\n",
            "Altındağ           1027\n",
            "Yenimahalle         974\n",
            "Gölbaşı             555\n",
            "Polatlı             452\n",
            "Çubuk                86\n",
            "Akyurt               46\n",
            "Elmadağ              31\n",
            "Bala                 25\n",
            "Ayaş                 21\n",
            "Kahramankazan        20\n",
            "Beypazarı             8\n",
            "Güdül                 7\n",
            "Kızılcahamam          7\n",
            "Haymana               3\n",
            "Kalecik               1\n",
            "Çamlıdere             1\n",
            "Nallıhan              1\n",
            "Şereflikoçhisar       1\n",
            "Name: count, dtype: int64\n",
            "------------\n"
          ]
        }
      ]
    },
    {
      "cell_type": "markdown",
      "source": [
        "Oda Sayısı değişkenlerinin analizi gereksiz yormaması için sadeleştirme yapılmıştır."
      ],
      "metadata": {
        "id": "Rt72kPHnieC-"
      }
    },
    {
      "cell_type": "code",
      "source": [
        "filt_oda=ankara_df[\"Oda Sayısı\"].isin([\"3+1\",\"4+1\",\"2+1\",\"1+1\"])"
      ],
      "metadata": {
        "id": "dDA2ydDEYQYq"
      },
      "execution_count": null,
      "outputs": []
    },
    {
      "cell_type": "code",
      "source": [
        "filt=ankara_df[\"Brüt Metrekare\"].value_counts()>500"
      ],
      "metadata": {
        "id": "1L-QT1Eeq9-O"
      },
      "execution_count": null,
      "outputs": []
    },
    {
      "cell_type": "code",
      "source": [
        "ankara_df.loc[~filt_oda,\"Oda Sayısı\"]=\"diger\""
      ],
      "metadata": {
        "id": "i-CLkyyiYyw4"
      },
      "execution_count": null,
      "outputs": []
    },
    {
      "cell_type": "code",
      "source": [
        "ankara_df[\"Oda Sayısı\"].unique()"
      ],
      "metadata": {
        "colab": {
          "base_uri": "https://localhost:8080/"
        },
        "id": "v7Ys31lKh4Om",
        "outputId": "3fa97435-58a7-45a1-d70a-4cae93546934"
      },
      "execution_count": null,
      "outputs": [
        {
          "output_type": "execute_result",
          "data": {
            "text/plain": [
              "array(['3+1', '4+1', 'diger', '1+1', '2+1'], dtype=object)"
            ]
          },
          "metadata": {},
          "execution_count": 32
        }
      ]
    },
    {
      "cell_type": "markdown",
      "source": [
        "İlçe Bilgilerinden az sayıda olanlar için sadeleştirme yapılmıştır."
      ],
      "metadata": {
        "id": "-csYnsGVipHv"
      }
    },
    {
      "cell_type": "code",
      "source": [
        "filt_ilce=ankara_df[\"Ilce\"].isin([\"Keçiören\",\"Sincan\",\"Mamak\",\"Etimesgut\",\"Çankaya\",\"Pursaklar\",\"Altındağ\",\"Yenimahalle\",\"Gökbaşı\",\"Polatlı\"])"
      ],
      "metadata": {
        "id": "4AkiIf-ki6UG"
      },
      "execution_count": null,
      "outputs": []
    },
    {
      "cell_type": "code",
      "source": [
        "ankara_df.loc[~filt_ilce,\"Ilce\"]=\"diger\""
      ],
      "metadata": {
        "id": "K324kpV2i7D3"
      },
      "execution_count": null,
      "outputs": []
    },
    {
      "cell_type": "code",
      "source": [
        "ankara_df[\"Ilce\"].unique()"
      ],
      "metadata": {
        "colab": {
          "base_uri": "https://localhost:8080/"
        },
        "id": "70wbVpFli7Qm",
        "outputId": "37286211-8e33-4788-8e3b-d26c851e9f9b"
      },
      "execution_count": null,
      "outputs": [
        {
          "output_type": "execute_result",
          "data": {
            "text/plain": [
              "array(['diger', 'Altındağ', 'Çankaya', 'Etimesgut', 'Keçiören', 'Mamak',\n",
              "       'Polatlı', 'Pursaklar', 'Sincan', 'Yenimahalle'], dtype=object)"
            ]
          },
          "metadata": {},
          "execution_count": 35
        }
      ]
    },
    {
      "cell_type": "markdown",
      "source": [
        "Bulunduğu kat sütunu için sadeleştirme işlemi yapılmıştır."
      ],
      "metadata": {
        "id": "AIPYTEMUjryb"
      }
    },
    {
      "cell_type": "code",
      "source": [
        "filt_bulkat=ankara_df[\"Bulunduğu Kat\"].isin(['3.Kat', '2.Kat', '1.Kat', '4.Kat', 'Yüksek Giriş'])"
      ],
      "metadata": {
        "id": "rQsrm72Xj1bb"
      },
      "execution_count": null,
      "outputs": []
    },
    {
      "cell_type": "code",
      "source": [
        "ankara_df.loc[~filt_bulkat,\"Bulunduğu Kat\"]=\"diger katlar\""
      ],
      "metadata": {
        "id": "y5plX7Ltj1li"
      },
      "execution_count": null,
      "outputs": []
    },
    {
      "cell_type": "code",
      "source": [
        "ankara_df[\"Bulunduğu Kat\"].unique().T"
      ],
      "metadata": {
        "colab": {
          "base_uri": "https://localhost:8080/"
        },
        "id": "DUGOluODj1rr",
        "outputId": "8e7c0f02-6b87-4b5b-8f5d-a18c8f72628e"
      },
      "execution_count": null,
      "outputs": [
        {
          "output_type": "execute_result",
          "data": {
            "text/plain": [
              "array(['3.Kat', 'diger katlar', '2.Kat', '1.Kat', '4.Kat', 'Yüksek Giriş'],\n",
              "      dtype=object)"
            ]
          },
          "metadata": {},
          "execution_count": 38
        }
      ]
    },
    {
      "cell_type": "markdown",
      "source": [
        "Binanın Kat Sayısı sütunu için sadeleştirme yapılmıştır."
      ],
      "metadata": {
        "id": "qPDaprlHkcHy"
      }
    },
    {
      "cell_type": "code",
      "source": [
        "#filt_bulkat=ankara_df[\"Binanın Kat Sayısı\"].isin([3,4,5,2])"
      ],
      "metadata": {
        "id": "tudJPcfjlBu9"
      },
      "execution_count": null,
      "outputs": []
    },
    {
      "cell_type": "code",
      "source": [
        "#ankara_df.loc[~filt_bulkat,\"Binanın Kat Sayısı\"] = \"çok katlı\""
      ],
      "metadata": {
        "id": "ajWyJz7flB0I"
      },
      "execution_count": null,
      "outputs": []
    },
    {
      "cell_type": "code",
      "source": [
        "#ankara_df[\"Binanın Kat Sayısı\"].unique().T"
      ],
      "metadata": {
        "id": "AAxWTXcOlB3Z"
      },
      "execution_count": null,
      "outputs": []
    },
    {
      "cell_type": "code",
      "source": [
        "#ankara_df[\"Binanın Kat Sayısı\"] = ankara_df[\"Binanın Kat Sayısı\"].astype(str)"
      ],
      "metadata": {
        "id": "j6mCB4rIy9Dj"
      },
      "execution_count": null,
      "outputs": []
    },
    {
      "cell_type": "code",
      "source": [
        "ankara_df[\"Brüt Metrekare\"].unique().T"
      ],
      "metadata": {
        "colab": {
          "base_uri": "https://localhost:8080/"
        },
        "id": "Cd-DTh6mqmMJ",
        "outputId": "40eb719a-35da-4386-d990-d1a0fc8dc3f7"
      },
      "execution_count": null,
      "outputs": [
        {
          "output_type": "execute_result",
          "data": {
            "text/plain": [
              "array([130, 200, 175, 550, 170, 110, 135,  50, 180, 500, 320,  46, 140,\n",
              "       300, 421,  90, 420, 120, 100, 400, 105,   1, 275, 201, 230, 117,\n",
              "       360, 145, 133, 125, 160,  98, 115,  70, 150,  85,  93, 250,  78,\n",
              "        72, 189,  77, 190, 209, 245,  95,  80,  60, 155, 350, 167,  87,\n",
              "       185, 210, 166, 235, 205, 165, 119, 220, 310, 390, 149, 255, 129,\n",
              "       260,  65, 218, 172, 144, 128, 131, 126, 159, 169, 178, 270, 162,\n",
              "        75, 181, 177, 122, 141, 171, 116, 153, 195, 147, 265, 240, 450,\n",
              "         4, 531, 600,   3, 700, 455, 225, 650,  55, 114, 127, 330, 292,\n",
              "       280,  74,  68, 216, 520, 137, 176, 285, 368, 124, 158, 198, 139,\n",
              "       542, 234,  45, 254, 365, 138,  67,  66,  69,  41,  56, 290, 295,\n",
              "       299,  47, 196, 111, 580, 219, 118, 340, 156, 203, 345,  43,  40,\n",
              "        86,  63, 179, 315, 385, 430, 146, 560, 102, 112, 305, 415, 104,\n",
              "       620, 148,  88, 207, 226,  57, 370, 215, 211, 197,  49, 142, 236,\n",
              "       182,  82, 740, 242,  61,  71, 123, 380, 616,  59,  30, 325, 374,\n",
              "       760,  21, 460, 136, 800, 850, 670,  99, 618, 480,  94,  48,  84,\n",
              "       192,  92, 132,  79,   2, 194, 134, 440, 525, 188,  58, 193,  89,\n",
              "        25,  76,  52, 598, 425,  96,  97, 750, 481, 276, 366, 108, 103,\n",
              "       229, 383, 435, 410, 168,  53, 680,  73,  51, 436,  42, 502, 900,\n",
              "       263, 411, 730,  54,  62, 530, 630, 950,  64, 106, 539, 113, 640,\n",
              "       635, 720, 223, 565, 143,   6,   5, 101, 395, 107, 164, 495, 288,\n",
              "       222, 183, 157,  81, 161, 121, 199, 174, 238, 262, 186, 279, 163,\n",
              "       604,  83, 465, 278, 202, 187,  22, 184, 266, 173, 221, 252, 233,\n",
              "        38,  10, 538, 788, 247, 208, 282, 344])"
            ]
          },
          "metadata": {},
          "execution_count": 43
        }
      ]
    },
    {
      "cell_type": "code",
      "source": [
        "#ankara_df.groupby(\"Brüt Metrekare\").agg({\"Fiyat\":\"mean\"}).sort_values(by=\"Fiyat\",ascending=False)"
      ],
      "metadata": {
        "id": "31QBC6nKnoNa"
      },
      "execution_count": null,
      "outputs": []
    },
    {
      "cell_type": "code",
      "source": [
        "(ankara_df[\"Brüt Metrekare\"]==\"3+1\").sum()"
      ],
      "metadata": {
        "colab": {
          "base_uri": "https://localhost:8080/"
        },
        "id": "xGTh-FKRpIg6",
        "outputId": "d4351b70-43d3-45c9-bfdb-4f809f72839b"
      },
      "execution_count": null,
      "outputs": [
        {
          "output_type": "execute_result",
          "data": {
            "text/plain": [
              "0"
            ]
          },
          "metadata": {},
          "execution_count": 45
        }
      ]
    },
    {
      "cell_type": "code",
      "source": [
        "ankara_df[\"Binanın Yaşı\"] = ankara_df[\"Binanın Yaşı\"].replace({\"10-May\":\"7\",\"15-Nov\":\"13\",\"0 (Yeni)\":\"0\",\"21 Ve Üzeri\":\"22\",\"16-20\":\"18\"})\n",
        "\n",
        "print(ankara_df[\"Binanın Yaşı\"].value_counts())\n",
        "\n",
        "ankara_df[\"Binanın Yaşı\"] = pd.to_numeric(ankara_df[\"Binanın Yaşı\"])"
      ],
      "metadata": {
        "colab": {
          "base_uri": "https://localhost:8080/"
        },
        "id": "lzBDrs6MGeVu",
        "outputId": "6669302a-d39f-4763-c2d9-a036afc9f257"
      },
      "execution_count": null,
      "outputs": [
        {
          "output_type": "stream",
          "name": "stdout",
          "text": [
            "Binanın Yaşı\n",
            "7     2693\n",
            "13    2172\n",
            "0     2146\n",
            "22    1972\n",
            "18    1338\n",
            "4      709\n",
            "3      330\n",
            "1      251\n",
            "2      247\n",
            "Name: count, dtype: int64\n"
          ]
        }
      ]
    },
    {
      "cell_type": "code",
      "source": [
        "ankara_df.reset_index"
      ],
      "metadata": {
        "colab": {
          "base_uri": "https://localhost:8080/",
          "height": 221
        },
        "id": "sSwu9n-lWiEx",
        "outputId": "f37e9e59-46ff-46fd-aba1-741db0fdfa66"
      },
      "execution_count": null,
      "outputs": [
        {
          "output_type": "execute_result",
          "data": {
            "text/plain": [
              "<bound method DataFrame.reset_index of          Fiyat Oda Sayısı Bulunduğu Kat       Isıtma Tipi   Tipi  \\\n",
              "45973  2300000        3+1         3.Kat    Kombi Doğalgaz  Daire   \n",
              "45974  7000000        3+1  diger katlar            Sobalı  Villa   \n",
              "45975  2650000        4+1         2.Kat    Kombi Doğalgaz  Daire   \n",
              "45976  2400000      diger         1.Kat            Sobalı  Daire   \n",
              "45977  2470000        4+1         4.Kat    Kombi Doğalgaz  Daire   \n",
              "...        ...        ...           ...               ...    ...   \n",
              "57826  1750000        2+1  Yüksek Giriş    Kombi Doğalgaz  Daire   \n",
              "57827  2750000        3+1         1.Kat    Kombi Doğalgaz  Daire   \n",
              "57828  3750000      diger  diger katlar    Kombi Doğalgaz  Daire   \n",
              "57829  5750000      diger  diger katlar    Kombi Doğalgaz  Daire   \n",
              "57830  5950000        4+1  diger katlar  Merkezi Doğalgaz  Daire   \n",
              "\n",
              "       Brüt Metrekare  Binanın Yaşı  Binanın Kat Sayısı  Banyo Sayısı  \\\n",
              "45973             130             0                   3             2   \n",
              "45974             200             0                   2             1   \n",
              "45975             175             0                   3             2   \n",
              "45976             550             1                   1             1   \n",
              "45977             170             4                   4             2   \n",
              "...               ...           ...                 ...           ...   \n",
              "57826             110            13                   3             1   \n",
              "57827             130            13                   3             1   \n",
              "57828             400             7                   4             2   \n",
              "57829             300             7                   7             3   \n",
              "57830             200             0                  21             2   \n",
              "\n",
              "              Ilce  \n",
              "45973        diger  \n",
              "45974        diger  \n",
              "45975        diger  \n",
              "45976        diger  \n",
              "45977        diger  \n",
              "...            ...  \n",
              "57826  Yenimahalle  \n",
              "57827  Yenimahalle  \n",
              "57828  Yenimahalle  \n",
              "57829  Yenimahalle  \n",
              "57830  Yenimahalle  \n",
              "\n",
              "[11858 rows x 10 columns]>"
            ],
            "text/html": [
              "<div style=\"max-width:800px; border: 1px solid var(--colab-border-color);\"><style>\n",
              "      pre.function-repr-contents {\n",
              "        overflow-x: auto;\n",
              "        padding: 8px 12px;\n",
              "        max-height: 500px;\n",
              "      }\n",
              "\n",
              "      pre.function-repr-contents.function-repr-contents-collapsed {\n",
              "        cursor: pointer;\n",
              "        max-height: 100px;\n",
              "      }\n",
              "    </style>\n",
              "    <pre style=\"white-space: initial; background:\n",
              "         var(--colab-secondary-surface-color); padding: 8px 12px;\n",
              "         border-bottom: 1px solid var(--colab-border-color);\"><b>pandas.core.frame.DataFrame.reset_index</b><br/>def reset_index(level: IndexLabel=None, *, drop: bool=False, inplace: bool=False, col_level: Hashable=0, col_fill: Hashable=&#x27;&#x27;, allow_duplicates: bool | lib.NoDefault=lib.no_default, names: Hashable | Sequence[Hashable]=None) -&gt; DataFrame | None</pre><pre class=\"function-repr-contents function-repr-contents-collapsed\" style=\"\"><a class=\"filepath\" style=\"display:none\" href=\"#\">/usr/local/lib/python3.10/dist-packages/pandas/core/frame.py</a>Reset the index, or a level of it.\n",
              "\n",
              "Reset the index of the DataFrame, and use the default one instead.\n",
              "If the DataFrame has a MultiIndex, this method can remove one or more\n",
              "levels.\n",
              "\n",
              "Parameters\n",
              "----------\n",
              "level : int, str, tuple, or list, default None\n",
              "    Only remove the given levels from the index. Removes all levels by\n",
              "    default.\n",
              "drop : bool, default False\n",
              "    Do not try to insert index into dataframe columns. This resets\n",
              "    the index to the default integer index.\n",
              "inplace : bool, default False\n",
              "    Whether to modify the DataFrame rather than creating a new one.\n",
              "col_level : int or str, default 0\n",
              "    If the columns have multiple levels, determines which level the\n",
              "    labels are inserted into. By default it is inserted into the first\n",
              "    level.\n",
              "col_fill : object, default &#x27;&#x27;\n",
              "    If the columns have multiple levels, determines how the other\n",
              "    levels are named. If None then the index name is repeated.\n",
              "allow_duplicates : bool, optional, default lib.no_default\n",
              "    Allow duplicate column labels to be created.\n",
              "\n",
              "    .. versionadded:: 1.5.0\n",
              "\n",
              "names : int, str or 1-dimensional list, default None\n",
              "    Using the given string, rename the DataFrame column which contains the\n",
              "    index data. If the DataFrame has a MultiIndex, this has to be a list or\n",
              "    tuple with length equal to the number of levels.\n",
              "\n",
              "    .. versionadded:: 1.5.0\n",
              "\n",
              "Returns\n",
              "-------\n",
              "DataFrame or None\n",
              "    DataFrame with the new index or None if ``inplace=True``.\n",
              "\n",
              "See Also\n",
              "--------\n",
              "DataFrame.set_index : Opposite of reset_index.\n",
              "DataFrame.reindex : Change to new indices or expand indices.\n",
              "DataFrame.reindex_like : Change to same indices as other DataFrame.\n",
              "\n",
              "Examples\n",
              "--------\n",
              "&gt;&gt;&gt; df = pd.DataFrame([(&#x27;bird&#x27;, 389.0),\n",
              "...                    (&#x27;bird&#x27;, 24.0),\n",
              "...                    (&#x27;mammal&#x27;, 80.5),\n",
              "...                    (&#x27;mammal&#x27;, np.nan)],\n",
              "...                   index=[&#x27;falcon&#x27;, &#x27;parrot&#x27;, &#x27;lion&#x27;, &#x27;monkey&#x27;],\n",
              "...                   columns=(&#x27;class&#x27;, &#x27;max_speed&#x27;))\n",
              "&gt;&gt;&gt; df\n",
              "         class  max_speed\n",
              "falcon    bird      389.0\n",
              "parrot    bird       24.0\n",
              "lion    mammal       80.5\n",
              "monkey  mammal        NaN\n",
              "\n",
              "When we reset the index, the old index is added as a column, and a\n",
              "new sequential index is used:\n",
              "\n",
              "&gt;&gt;&gt; df.reset_index()\n",
              "    index   class  max_speed\n",
              "0  falcon    bird      389.0\n",
              "1  parrot    bird       24.0\n",
              "2    lion  mammal       80.5\n",
              "3  monkey  mammal        NaN\n",
              "\n",
              "We can use the `drop` parameter to avoid the old index being added as\n",
              "a column:\n",
              "\n",
              "&gt;&gt;&gt; df.reset_index(drop=True)\n",
              "    class  max_speed\n",
              "0    bird      389.0\n",
              "1    bird       24.0\n",
              "2  mammal       80.5\n",
              "3  mammal        NaN\n",
              "\n",
              "You can also use `reset_index` with `MultiIndex`.\n",
              "\n",
              "&gt;&gt;&gt; index = pd.MultiIndex.from_tuples([(&#x27;bird&#x27;, &#x27;falcon&#x27;),\n",
              "...                                    (&#x27;bird&#x27;, &#x27;parrot&#x27;),\n",
              "...                                    (&#x27;mammal&#x27;, &#x27;lion&#x27;),\n",
              "...                                    (&#x27;mammal&#x27;, &#x27;monkey&#x27;)],\n",
              "...                                   names=[&#x27;class&#x27;, &#x27;name&#x27;])\n",
              "&gt;&gt;&gt; columns = pd.MultiIndex.from_tuples([(&#x27;speed&#x27;, &#x27;max&#x27;),\n",
              "...                                      (&#x27;species&#x27;, &#x27;type&#x27;)])\n",
              "&gt;&gt;&gt; df = pd.DataFrame([(389.0, &#x27;fly&#x27;),\n",
              "...                    (24.0, &#x27;fly&#x27;),\n",
              "...                    (80.5, &#x27;run&#x27;),\n",
              "...                    (np.nan, &#x27;jump&#x27;)],\n",
              "...                   index=index,\n",
              "...                   columns=columns)\n",
              "&gt;&gt;&gt; df\n",
              "               speed species\n",
              "                 max    type\n",
              "class  name\n",
              "bird   falcon  389.0     fly\n",
              "       parrot   24.0     fly\n",
              "mammal lion     80.5     run\n",
              "       monkey    NaN    jump\n",
              "\n",
              "Using the `names` parameter, choose a name for the index column:\n",
              "\n",
              "&gt;&gt;&gt; df.reset_index(names=[&#x27;classes&#x27;, &#x27;names&#x27;])\n",
              "  classes   names  speed species\n",
              "                     max    type\n",
              "0    bird  falcon  389.0     fly\n",
              "1    bird  parrot   24.0     fly\n",
              "2  mammal    lion   80.5     run\n",
              "3  mammal  monkey    NaN    jump\n",
              "\n",
              "If the index has multiple levels, we can reset a subset of them:\n",
              "\n",
              "&gt;&gt;&gt; df.reset_index(level=&#x27;class&#x27;)\n",
              "         class  speed species\n",
              "                  max    type\n",
              "name\n",
              "falcon    bird  389.0     fly\n",
              "parrot    bird   24.0     fly\n",
              "lion    mammal   80.5     run\n",
              "monkey  mammal    NaN    jump\n",
              "\n",
              "If we are not dropping the index, by default, it is placed in the top\n",
              "level. We can place it in another level:\n",
              "\n",
              "&gt;&gt;&gt; df.reset_index(level=&#x27;class&#x27;, col_level=1)\n",
              "                speed species\n",
              "         class    max    type\n",
              "name\n",
              "falcon    bird  389.0     fly\n",
              "parrot    bird   24.0     fly\n",
              "lion    mammal   80.5     run\n",
              "monkey  mammal    NaN    jump\n",
              "\n",
              "When the index is inserted under another level, we can specify under\n",
              "which one with the parameter `col_fill`:\n",
              "\n",
              "&gt;&gt;&gt; df.reset_index(level=&#x27;class&#x27;, col_level=1, col_fill=&#x27;species&#x27;)\n",
              "              species  speed species\n",
              "                class    max    type\n",
              "name\n",
              "falcon           bird  389.0     fly\n",
              "parrot           bird   24.0     fly\n",
              "lion           mammal   80.5     run\n",
              "monkey         mammal    NaN    jump\n",
              "\n",
              "If we specify a nonexistent level for `col_fill`, it is created:\n",
              "\n",
              "&gt;&gt;&gt; df.reset_index(level=&#x27;class&#x27;, col_level=1, col_fill=&#x27;genus&#x27;)\n",
              "                genus  speed species\n",
              "                class    max    type\n",
              "name\n",
              "falcon           bird  389.0     fly\n",
              "parrot           bird   24.0     fly\n",
              "lion           mammal   80.5     run\n",
              "monkey         mammal    NaN    jump</pre>\n",
              "      <script>\n",
              "      if (google.colab.kernel.accessAllowed && google.colab.files && google.colab.files.view) {\n",
              "        for (const element of document.querySelectorAll('.filepath')) {\n",
              "          element.style.display = 'block'\n",
              "          element.onclick = (event) => {\n",
              "            event.preventDefault();\n",
              "            event.stopPropagation();\n",
              "            google.colab.files.view(element.textContent, 5976);\n",
              "          };\n",
              "        }\n",
              "      }\n",
              "      for (const element of document.querySelectorAll('.function-repr-contents')) {\n",
              "        element.onclick = (event) => {\n",
              "          event.preventDefault();\n",
              "          event.stopPropagation();\n",
              "          element.classList.toggle('function-repr-contents-collapsed');\n",
              "        };\n",
              "      }\n",
              "      </script>\n",
              "      </div>"
            ]
          },
          "metadata": {},
          "execution_count": 47
        }
      ]
    },
    {
      "cell_type": "code",
      "source": [
        "ankara_df.info()"
      ],
      "metadata": {
        "colab": {
          "base_uri": "https://localhost:8080/"
        },
        "id": "VSX4_oWbW4w-",
        "outputId": "e60d963b-174e-4cd5-be1e-65ff97328ba2"
      },
      "execution_count": null,
      "outputs": [
        {
          "output_type": "stream",
          "name": "stdout",
          "text": [
            "<class 'pandas.core.frame.DataFrame'>\n",
            "Index: 11858 entries, 45973 to 57830\n",
            "Data columns (total 10 columns):\n",
            " #   Column              Non-Null Count  Dtype \n",
            "---  ------              --------------  ----- \n",
            " 0   Fiyat               11858 non-null  int64 \n",
            " 1   Oda Sayısı          11858 non-null  object\n",
            " 2   Bulunduğu Kat       11858 non-null  object\n",
            " 3   Isıtma Tipi         11858 non-null  object\n",
            " 4   Tipi                11858 non-null  object\n",
            " 5   Brüt Metrekare      11858 non-null  int64 \n",
            " 6   Binanın Yaşı        11858 non-null  int64 \n",
            " 7   Binanın Kat Sayısı  11858 non-null  int64 \n",
            " 8   Banyo Sayısı        11858 non-null  int64 \n",
            " 9   Ilce                11858 non-null  object\n",
            "dtypes: int64(5), object(5)\n",
            "memory usage: 1019.0+ KB\n"
          ]
        }
      ]
    },
    {
      "cell_type": "markdown",
      "source": [
        "# Veri Seti Doğrulaması"
      ],
      "metadata": {
        "id": "mgDhO-sLWLHo"
      }
    },
    {
      "cell_type": "code",
      "source": [
        "fold_number = 10\n",
        "test_size = 0.2\n",
        "seed = 7\n",
        "X = ankara_df.iloc[:, 1:10]\n",
        "Y = ankara_df.iloc[:, 0]\n",
        "kfold = KFold(n_splits=fold_number,shuffle=True,random_state=7)\n",
        "X_train,X_validation,Y_train,Y_validation = train_test_split(X,Y,test_size=test_size,random_state=seed)"
      ],
      "metadata": {
        "id": "P14cqtufWPcJ"
      },
      "execution_count": null,
      "outputs": []
    },
    {
      "cell_type": "code",
      "source": [
        "print(X)"
      ],
      "metadata": {
        "colab": {
          "base_uri": "https://localhost:8080/"
        },
        "id": "bpTQN-mmaD6e",
        "outputId": "143e7845-555d-4061-ed2f-ecef66b3ad36"
      },
      "execution_count": null,
      "outputs": [
        {
          "output_type": "stream",
          "name": "stdout",
          "text": [
            "      Oda Sayısı Bulunduğu Kat       Isıtma Tipi   Tipi  Brüt Metrekare  \\\n",
            "45973        3+1         3.Kat    Kombi Doğalgaz  Daire             130   \n",
            "45974        3+1  diger katlar            Sobalı  Villa             200   \n",
            "45975        4+1         2.Kat    Kombi Doğalgaz  Daire             175   \n",
            "45976      diger         1.Kat            Sobalı  Daire             550   \n",
            "45977        4+1         4.Kat    Kombi Doğalgaz  Daire             170   \n",
            "...          ...           ...               ...    ...             ...   \n",
            "57826        2+1  Yüksek Giriş    Kombi Doğalgaz  Daire             110   \n",
            "57827        3+1         1.Kat    Kombi Doğalgaz  Daire             130   \n",
            "57828      diger  diger katlar    Kombi Doğalgaz  Daire             400   \n",
            "57829      diger  diger katlar    Kombi Doğalgaz  Daire             300   \n",
            "57830        4+1  diger katlar  Merkezi Doğalgaz  Daire             200   \n",
            "\n",
            "       Binanın Yaşı  Binanın Kat Sayısı  Banyo Sayısı         Ilce  \n",
            "45973             0                   3             2        diger  \n",
            "45974             0                   2             1        diger  \n",
            "45975             0                   3             2        diger  \n",
            "45976             1                   1             1        diger  \n",
            "45977             4                   4             2        diger  \n",
            "...             ...                 ...           ...          ...  \n",
            "57826            13                   3             1  Yenimahalle  \n",
            "57827            13                   3             1  Yenimahalle  \n",
            "57828             7                   4             2  Yenimahalle  \n",
            "57829             7                   7             3  Yenimahalle  \n",
            "57830             0                  21             2  Yenimahalle  \n",
            "\n",
            "[11858 rows x 9 columns]\n"
          ]
        }
      ]
    },
    {
      "cell_type": "markdown",
      "source": [
        "# Veri Tiplerini Belirleme ve Pipeline"
      ],
      "metadata": {
        "id": "SfcB-OLmn4sH"
      }
    },
    {
      "cell_type": "markdown",
      "source": [
        "**Nicel Veriye Sahip Sutünlar:** 'Banyo Sayısı','Brüt Metrekare','Binanın Yaşı',\n",
        "\n",
        "\n",
        "**Nominal Veriye Sahip Sutünlar:** 'Bulunduğu Kat','Oda Sayısı',  'Isıtma Tipi', 'Tipi','Ilce'\n",
        "\n",
        "\n",
        "----------\n",
        "\n"
      ],
      "metadata": {
        "id": "HoORp_bOw8NY"
      }
    },
    {
      "cell_type": "markdown",
      "source": [
        "Tür / Adres  Sütununu sil\n",
        "\n",
        "Brüt Metrekare m2 silinecek/ numeric yapılacak.\n",
        "\n",
        "Banyo Sayısı, Binanın Kat Sayısı Elleme zaten İnteger\n",
        "\n",
        "Fiyat kontrol et astype(İnteger) yapılarak çevrilebilir.\n",
        "\n",
        "Fiyat  -- scaler\n",
        "\n",
        "Balkon Sayısı - direk silinecek. Çünkü çoğu belirtilmemiş.\n",
        "\n",
        "Binanın Yaşına ve Bulunduğu Kat 'a Bak\n"
      ],
      "metadata": {
        "id": "9mk3bsZN4_s7"
      }
    },
    {
      "cell_type": "markdown",
      "source": [
        "Filtreleme Yapılarak Noise Dataların temizlenmesi gerekmektedir."
      ],
      "metadata": {
        "id": "ARJhPUzPEBCl"
      }
    },
    {
      "cell_type": "code",
      "source": [
        "# Nicel veri tipine sahip sütunlar için oluşturulan Pipeline\n",
        "quan_ss=StandardScaler()\n",
        "quan_si=SimpleImputer()\n",
        "quan_cols=['Banyo Sayısı','Binanın Yaşı','Brüt Metrekare']\n",
        "quan_step=[(\"quan_si\",quan_si),(\"quan_ss\",quan_ss)]\n",
        "quan_pipe=Pipeline(quan_step)\n",
        "\n",
        "#Nominal veri tipine sahip sütunlar için oluşturulan Pipeline\n",
        "nom_cols=[ 'Bulunduğu Kat','Oda Sayısı','Ilce','Binanın Kat Sayısı','Isıtma Tipi','Tipi']\n",
        "nom_ohe=OneHotEncoder(sparse=False,handle_unknown=\"ignore\")\n",
        "nom_si=SimpleImputer(strategy=\"most_frequent\")\n",
        "nom_step=[(\"nom_si\",nom_si),(\"nom_ohe\",nom_ohe)]\n",
        "nom_pipe=Pipeline(nom_step)\n",
        "\n"
      ],
      "metadata": {
        "id": "I358LRxhDR6G"
      },
      "execution_count": null,
      "outputs": []
    },
    {
      "cell_type": "markdown",
      "source": [
        "Ordinal veri tipine sahip sütunlar için oluşturulan Pipeline\n",
        "order = [['Po', 'Fa', 'TA', 'Gd', 'Ex']]\n",
        "ord_cols=[\"HeatingQC\"]\n",
        "ord_oe=OrdinalEncoder(order)\n",
        "ord_si=SimpleImputer(strategy=\"most_frequent\")\n",
        "ord_step=[(\"ord_si\",ord_si),(\"ord_oe\",ord_oe)]\n",
        "ord_pipe=Pipeline(ord_step)\n"
      ],
      "metadata": {
        "id": "BVGiGxlVKwFm"
      }
    },
    {
      "cell_type": "markdown",
      "source": [
        "# Sütun Dönüştürme İşlemleri"
      ],
      "metadata": {
        "id": "45kQb9DBUpzR"
      }
    },
    {
      "cell_type": "code",
      "source": [
        "#Sütun Dönüşüm Modellemesi\n",
        "\n",
        "transformers=[(\"quan\",quan_pipe,quan_cols),\n",
        "             (\"nom\",nom_pipe,nom_cols)]\n",
        "ct = ColumnTransformer(transformers,remainder=\"passthrough\")\n",
        "X_transformed = ct.fit_transform(X)"
      ],
      "metadata": {
        "id": "6jrGGgpNUyAI"
      },
      "execution_count": null,
      "outputs": []
    },
    {
      "cell_type": "markdown",
      "source": [
        "\n",
        "\n",
        "# Lineer vs NonLineer Modeller"
      ],
      "metadata": {
        "id": "XP6aZwqAbOUM"
      }
    },
    {
      "cell_type": "code",
      "source": [
        "models=[LinearRegression(),DecisionTreeRegressor(),SVR(),KNeighborsRegressor(),Ridge()]\n",
        "model=[]\n",
        "results=[]\n",
        "names=[str(i).strip(\"()\") for i in models ]\n",
        "model_name=[]"
      ],
      "metadata": {
        "id": "vhLK6OLsbRyS"
      },
      "execution_count": null,
      "outputs": []
    },
    {
      "cell_type": "code",
      "source": [
        "results=[]\n",
        "name_models=[]\n",
        "for i in models:\n",
        "  X_transformed_columns=ct.fit_transform(X_train)\n",
        "  X_validation_Transformed=ct.transform(X_validation)\n",
        "  kf=KFold(n_splits=5,shuffle=True,random_state=7)\n",
        "  final_model=i\n",
        "  final_model.fit(X_transformed_columns,Y_train)\n",
        "  mean_score=cross_val_score(final_model,X_validation_Transformed,Y_validation,cv=kf).mean()\n",
        "  results.append(mean_score)\n",
        "  name_models.append(str(i))\n",
        "  print(\"Obtained mean score is {} for the model {}\".format(mean_score,i))\n"
      ],
      "metadata": {
        "colab": {
          "base_uri": "https://localhost:8080/"
        },
        "id": "U7ZLBPU5M5XM",
        "outputId": "e189e6d5-91eb-4f9d-93ad-bf49e07e1425"
      },
      "execution_count": null,
      "outputs": [
        {
          "output_type": "stream",
          "name": "stdout",
          "text": [
            "Obtained mean score is -3.7328398003710633e+18for the model LinearRegression()\n",
            "Obtained mean score is 0.2610603058087005for the model DecisionTreeRegressor()\n",
            "Obtained mean score is -0.05773658824353482for the model SVR()\n",
            "Obtained mean score is 0.5956384923773804for the model KNeighborsRegressor()\n",
            "Obtained mean score is 0.5678950801717345for the model Ridge()\n"
          ]
        }
      ]
    }
  ]
}